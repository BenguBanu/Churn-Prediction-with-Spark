{
 "cells": [
  {
   "cell_type": "markdown",
   "metadata": {},
   "source": [
    "# Sparkify Project Workspace\n",
    "This workspace contains a tiny subset (128MB) of the full dataset available (12GB). Feel free to use this workspace to build your project, or to explore a smaller subset with Spark before deploying your cluster on the cloud. Instructions for setting up your Spark cluster is included in the last lesson of the Extracurricular Spark Course content.\n",
    "\n",
    "You can follow the steps below to guide your data analysis and model building portion of this project."
   ]
  },
  {
   "cell_type": "code",
   "execution_count": 138,
   "metadata": {},
   "outputs": [],
   "source": [
    "# import libraries\n",
    "from pyspark.sql import SparkSession\n",
    "from pyspark.sql.functions import avg, col, concat, count, desc, explode, lit, min, max, split, stddev, udf, asc, last,countDistinct\n",
    "from pyspark.sql.functions import sum as Fsum\n",
    "from pyspark.sql.functions import min as Fmin\n",
    "from pyspark.sql.functions import max as Fmax\n",
    "from pyspark.sql.types import IntegerType\n",
    "from pyspark.sql.types import StringType, DateType\n",
    "from pyspark.sql.window import Window\n",
    "from pyspark.ml.feature import CountVectorizer,Normalizer,  StandardScaler, StringIndexer, VectorAssembler,MinMaxScaler\n",
    "from pyspark.ml import Pipeline\n",
    "from pyspark.ml.classification import LogisticRegression, RandomForestClassifier, GBTClassifier,DecisionTreeClassifier\n",
    "from pyspark.ml.evaluation import MulticlassClassificationEvaluator,BinaryClassificationEvaluator, Evaluator\n",
    "from pyspark.ml.tuning import CrossValidator, ParamGridBuilder\n",
    "import re\n",
    "\n",
    "import datetime\n",
    "import time\n",
    "\n",
    "import numpy as np\n",
    "import pandas as pd\n",
    "%matplotlib inline\n",
    "import matplotlib.pyplot as plt\n",
    "import seaborn as sns"
   ]
  },
  {
   "cell_type": "code",
   "execution_count": 3,
   "metadata": {},
   "outputs": [],
   "source": [
    "# create a Spark session\n",
    "spark = SparkSession.builder \\\n",
    "    .master(\"local\") \\\n",
    "    .appName(\"Sparkify Capstone\") \\\n",
    "    .getOrCreate()"
   ]
  },
  {
   "cell_type": "markdown",
   "metadata": {},
   "source": [
    "# Load and Clean Dataset\n",
    "In this workspace, the mini-dataset file is `mini_sparkify_event_data.json`. Load and clean the dataset, checking for invalid or missing data - for example, records without userids or sessionids. "
   ]
  },
  {
   "cell_type": "code",
   "execution_count": 4,
   "metadata": {},
   "outputs": [],
   "source": [
    "sparkify_data = 'mini_sparkify_event_data.json'"
   ]
  },
  {
   "cell_type": "code",
   "execution_count": 5,
   "metadata": {},
   "outputs": [],
   "source": [
    "#load data to a data frame \n",
    "df=spark.read.json(sparkify_data)"
   ]
  },
  {
   "cell_type": "code",
   "execution_count": 6,
   "metadata": {
    "scrolled": false
   },
   "outputs": [
    {
     "name": "stdout",
     "output_type": "stream",
     "text": [
      "root\n",
      " |-- artist: string (nullable = true)\n",
      " |-- auth: string (nullable = true)\n",
      " |-- firstName: string (nullable = true)\n",
      " |-- gender: string (nullable = true)\n",
      " |-- itemInSession: long (nullable = true)\n",
      " |-- lastName: string (nullable = true)\n",
      " |-- length: double (nullable = true)\n",
      " |-- level: string (nullable = true)\n",
      " |-- location: string (nullable = true)\n",
      " |-- method: string (nullable = true)\n",
      " |-- page: string (nullable = true)\n",
      " |-- registration: long (nullable = true)\n",
      " |-- sessionId: long (nullable = true)\n",
      " |-- song: string (nullable = true)\n",
      " |-- status: long (nullable = true)\n",
      " |-- ts: long (nullable = true)\n",
      " |-- userAgent: string (nullable = true)\n",
      " |-- userId: string (nullable = true)\n",
      "\n"
     ]
    }
   ],
   "source": [
    "df.printSchema()"
   ]
  },
  {
   "cell_type": "code",
   "execution_count": 74,
   "metadata": {
    "scrolled": true
   },
   "outputs": [
    {
     "data": {
      "text/html": [
       "<div>\n",
       "<style scoped>\n",
       "    .dataframe tbody tr th:only-of-type {\n",
       "        vertical-align: middle;\n",
       "    }\n",
       "\n",
       "    .dataframe tbody tr th {\n",
       "        vertical-align: top;\n",
       "    }\n",
       "\n",
       "    .dataframe thead th {\n",
       "        text-align: right;\n",
       "    }\n",
       "</style>\n",
       "<table border=\"1\" class=\"dataframe\">\n",
       "  <thead>\n",
       "    <tr style=\"text-align: right;\">\n",
       "      <th></th>\n",
       "      <th>artist</th>\n",
       "      <th>auth</th>\n",
       "      <th>firstName</th>\n",
       "      <th>gender</th>\n",
       "      <th>itemInSession</th>\n",
       "      <th>lastName</th>\n",
       "      <th>length</th>\n",
       "      <th>level</th>\n",
       "      <th>location</th>\n",
       "      <th>method</th>\n",
       "      <th>page</th>\n",
       "      <th>registration</th>\n",
       "      <th>sessionId</th>\n",
       "      <th>song</th>\n",
       "      <th>status</th>\n",
       "      <th>ts</th>\n",
       "      <th>userAgent</th>\n",
       "      <th>userId</th>\n",
       "    </tr>\n",
       "  </thead>\n",
       "  <tbody>\n",
       "    <tr>\n",
       "      <th>0</th>\n",
       "      <td>Martha Tilston</td>\n",
       "      <td>Logged In</td>\n",
       "      <td>Colin</td>\n",
       "      <td>M</td>\n",
       "      <td>50</td>\n",
       "      <td>Freeman</td>\n",
       "      <td>277.89016</td>\n",
       "      <td>paid</td>\n",
       "      <td>Bakersfield, CA</td>\n",
       "      <td>PUT</td>\n",
       "      <td>NextSong</td>\n",
       "      <td>1.538173e+12</td>\n",
       "      <td>29</td>\n",
       "      <td>Rockpools</td>\n",
       "      <td>200</td>\n",
       "      <td>1538352117000</td>\n",
       "      <td>Mozilla/5.0 (Windows NT 6.1; WOW64; rv:31.0) G...</td>\n",
       "      <td>30</td>\n",
       "    </tr>\n",
       "    <tr>\n",
       "      <th>1</th>\n",
       "      <td>Five Iron Frenzy</td>\n",
       "      <td>Logged In</td>\n",
       "      <td>Micah</td>\n",
       "      <td>M</td>\n",
       "      <td>79</td>\n",
       "      <td>Long</td>\n",
       "      <td>236.09424</td>\n",
       "      <td>free</td>\n",
       "      <td>Boston-Cambridge-Newton, MA-NH</td>\n",
       "      <td>PUT</td>\n",
       "      <td>NextSong</td>\n",
       "      <td>1.538332e+12</td>\n",
       "      <td>8</td>\n",
       "      <td>Canada</td>\n",
       "      <td>200</td>\n",
       "      <td>1538352180000</td>\n",
       "      <td>\"Mozilla/5.0 (Windows NT 6.1; WOW64) AppleWebK...</td>\n",
       "      <td>9</td>\n",
       "    </tr>\n",
       "    <tr>\n",
       "      <th>2</th>\n",
       "      <td>Adam Lambert</td>\n",
       "      <td>Logged In</td>\n",
       "      <td>Colin</td>\n",
       "      <td>M</td>\n",
       "      <td>51</td>\n",
       "      <td>Freeman</td>\n",
       "      <td>282.82730</td>\n",
       "      <td>paid</td>\n",
       "      <td>Bakersfield, CA</td>\n",
       "      <td>PUT</td>\n",
       "      <td>NextSong</td>\n",
       "      <td>1.538173e+12</td>\n",
       "      <td>29</td>\n",
       "      <td>Time For Miracles</td>\n",
       "      <td>200</td>\n",
       "      <td>1538352394000</td>\n",
       "      <td>Mozilla/5.0 (Windows NT 6.1; WOW64; rv:31.0) G...</td>\n",
       "      <td>30</td>\n",
       "    </tr>\n",
       "    <tr>\n",
       "      <th>3</th>\n",
       "      <td>Enigma</td>\n",
       "      <td>Logged In</td>\n",
       "      <td>Micah</td>\n",
       "      <td>M</td>\n",
       "      <td>80</td>\n",
       "      <td>Long</td>\n",
       "      <td>262.71302</td>\n",
       "      <td>free</td>\n",
       "      <td>Boston-Cambridge-Newton, MA-NH</td>\n",
       "      <td>PUT</td>\n",
       "      <td>NextSong</td>\n",
       "      <td>1.538332e+12</td>\n",
       "      <td>8</td>\n",
       "      <td>Knocking On Forbidden Doors</td>\n",
       "      <td>200</td>\n",
       "      <td>1538352416000</td>\n",
       "      <td>\"Mozilla/5.0 (Windows NT 6.1; WOW64) AppleWebK...</td>\n",
       "      <td>9</td>\n",
       "    </tr>\n",
       "    <tr>\n",
       "      <th>4</th>\n",
       "      <td>Daft Punk</td>\n",
       "      <td>Logged In</td>\n",
       "      <td>Colin</td>\n",
       "      <td>M</td>\n",
       "      <td>52</td>\n",
       "      <td>Freeman</td>\n",
       "      <td>223.60771</td>\n",
       "      <td>paid</td>\n",
       "      <td>Bakersfield, CA</td>\n",
       "      <td>PUT</td>\n",
       "      <td>NextSong</td>\n",
       "      <td>1.538173e+12</td>\n",
       "      <td>29</td>\n",
       "      <td>Harder Better Faster Stronger</td>\n",
       "      <td>200</td>\n",
       "      <td>1538352676000</td>\n",
       "      <td>Mozilla/5.0 (Windows NT 6.1; WOW64; rv:31.0) G...</td>\n",
       "      <td>30</td>\n",
       "    </tr>\n",
       "  </tbody>\n",
       "</table>\n",
       "</div>"
      ],
      "text/plain": [
       "             artist       auth firstName gender  itemInSession lastName  \\\n",
       "0    Martha Tilston  Logged In     Colin      M             50  Freeman   \n",
       "1  Five Iron Frenzy  Logged In     Micah      M             79     Long   \n",
       "2      Adam Lambert  Logged In     Colin      M             51  Freeman   \n",
       "3            Enigma  Logged In     Micah      M             80     Long   \n",
       "4         Daft Punk  Logged In     Colin      M             52  Freeman   \n",
       "\n",
       "      length level                        location method      page  \\\n",
       "0  277.89016  paid                 Bakersfield, CA    PUT  NextSong   \n",
       "1  236.09424  free  Boston-Cambridge-Newton, MA-NH    PUT  NextSong   \n",
       "2  282.82730  paid                 Bakersfield, CA    PUT  NextSong   \n",
       "3  262.71302  free  Boston-Cambridge-Newton, MA-NH    PUT  NextSong   \n",
       "4  223.60771  paid                 Bakersfield, CA    PUT  NextSong   \n",
       "\n",
       "   registration  sessionId                           song  status  \\\n",
       "0  1.538173e+12         29                      Rockpools     200   \n",
       "1  1.538332e+12          8                         Canada     200   \n",
       "2  1.538173e+12         29              Time For Miracles     200   \n",
       "3  1.538332e+12          8    Knocking On Forbidden Doors     200   \n",
       "4  1.538173e+12         29  Harder Better Faster Stronger     200   \n",
       "\n",
       "              ts                                          userAgent userId  \n",
       "0  1538352117000  Mozilla/5.0 (Windows NT 6.1; WOW64; rv:31.0) G...     30  \n",
       "1  1538352180000  \"Mozilla/5.0 (Windows NT 6.1; WOW64) AppleWebK...      9  \n",
       "2  1538352394000  Mozilla/5.0 (Windows NT 6.1; WOW64; rv:31.0) G...     30  \n",
       "3  1538352416000  \"Mozilla/5.0 (Windows NT 6.1; WOW64) AppleWebK...      9  \n",
       "4  1538352676000  Mozilla/5.0 (Windows NT 6.1; WOW64; rv:31.0) G...     30  "
      ]
     },
     "execution_count": 74,
     "metadata": {},
     "output_type": "execute_result"
    }
   ],
   "source": [
    "df.toPandas().head(5)"
   ]
  },
  {
   "cell_type": "code",
   "execution_count": 7,
   "metadata": {},
   "outputs": [
    {
     "name": "stdout",
     "output_type": "stream",
     "text": [
      "+-------+-----------------+\n",
      "|summary|           userId|\n",
      "+-------+-----------------+\n",
      "|  count|           286500|\n",
      "|   mean|59682.02278593872|\n",
      "| stddev|109091.9499991047|\n",
      "|    min|                 |\n",
      "|    max|               99|\n",
      "+-------+-----------------+\n",
      "\n"
     ]
    }
   ],
   "source": [
    "df.describe(\"userId\").show()"
   ]
  },
  {
   "cell_type": "code",
   "execution_count": 8,
   "metadata": {},
   "outputs": [
    {
     "data": {
      "text/plain": [
       "286500"
      ]
     },
     "execution_count": 8,
     "metadata": {},
     "output_type": "execute_result"
    }
   ],
   "source": [
    "df.count() #286500"
   ]
  },
  {
   "cell_type": "code",
   "execution_count": 7,
   "metadata": {},
   "outputs": [],
   "source": [
    "user_log= df.dropna(how= \"any\", subset = [\"userId\", \"sessionId\"])\n",
    "#there is no null records as count of rows did not change "
   ]
  },
  {
   "cell_type": "code",
   "execution_count": 8,
   "metadata": {},
   "outputs": [
    {
     "data": {
      "text/plain": [
       "286500"
      ]
     },
     "execution_count": 8,
     "metadata": {},
     "output_type": "execute_result"
    }
   ],
   "source": [
    "user_log.count()"
   ]
  },
  {
   "cell_type": "code",
   "execution_count": 9,
   "metadata": {
    "scrolled": true
   },
   "outputs": [
    {
     "name": "stdout",
     "output_type": "stream",
     "text": [
      "+------+\n",
      "|userId|\n",
      "+------+\n",
      "|      |\n",
      "|    10|\n",
      "|   100|\n",
      "|100001|\n",
      "|100002|\n",
      "|100003|\n",
      "|100004|\n",
      "|100005|\n",
      "|100006|\n",
      "|100007|\n",
      "|100008|\n",
      "|100009|\n",
      "|100010|\n",
      "|100011|\n",
      "|100012|\n",
      "|100013|\n",
      "|100014|\n",
      "|100015|\n",
      "|100016|\n",
      "|100017|\n",
      "+------+\n",
      "only showing top 20 rows\n",
      "\n"
     ]
    }
   ],
   "source": [
    "user_log.select(\"userId\").dropDuplicates().sort(\"userId\").show()\n",
    "# there are no missing values in the userID or session columns.\n",
    "#But there are userID values that are empty strings."
   ]
  },
  {
   "cell_type": "code",
   "execution_count": 10,
   "metadata": {},
   "outputs": [],
   "source": [
    "user_log = user_log.filter(user_log[\"userId\"] != \"\")\n",
    "#filter records with empty string "
   ]
  },
  {
   "cell_type": "code",
   "execution_count": 13,
   "metadata": {},
   "outputs": [
    {
     "data": {
      "text/plain": [
       "278154"
      ]
     },
     "execution_count": 13,
     "metadata": {},
     "output_type": "execute_result"
    }
   ],
   "source": [
    "user_log.count()"
   ]
  },
  {
   "cell_type": "markdown",
   "metadata": {},
   "source": [
    "# Exploratory Data Analysis\n",
    "When you're working with the full dataset, perform EDA by loading a small subset of the data and doing basic manipulations within Spark. In this workspace, you are already provided a small subset of data you can explore.\n",
    "\n",
    "### Define Churn\n",
    "\n",
    "Once you've done some preliminary analysis, create a column `Churn` to use as the label for your model. I suggest using the `Cancellation Confirmation` events to define your churn, which happen for both paid and free users. As a bonus task, you can also look into the `Downgrade` events.\n",
    "\n",
    "### Explore Data\n",
    "Once you've defined churn, perform some exploratory data analysis to observe the behavior for users who stayed vs users who churned. You can start by exploring aggregates on these two groups of users, observing how much of a specific action they experienced per a certain time unit or number of songs played."
   ]
  },
  {
   "cell_type": "code",
   "execution_count": 14,
   "metadata": {
    "scrolled": true
   },
   "outputs": [
    {
     "name": "stdout",
     "output_type": "stream",
     "text": [
      "+--------------------+\n",
      "|                page|\n",
      "+--------------------+\n",
      "|               About|\n",
      "|          Add Friend|\n",
      "|     Add to Playlist|\n",
      "|              Cancel|\n",
      "|Cancellation Conf...|\n",
      "|           Downgrade|\n",
      "|               Error|\n",
      "|                Help|\n",
      "|                Home|\n",
      "|              Logout|\n",
      "|            NextSong|\n",
      "|         Roll Advert|\n",
      "|       Save Settings|\n",
      "|            Settings|\n",
      "|    Submit Downgrade|\n",
      "|      Submit Upgrade|\n",
      "|         Thumbs Down|\n",
      "|           Thumbs Up|\n",
      "|             Upgrade|\n",
      "+--------------------+\n",
      "\n"
     ]
    }
   ],
   "source": [
    "user_log.select(\"page\").dropDuplicates().sort(\"page\").show()"
   ]
  },
  {
   "cell_type": "code",
   "execution_count": 15,
   "metadata": {},
   "outputs": [
    {
     "name": "stdout",
     "output_type": "stream",
     "text": [
      "+------+\n",
      "|status|\n",
      "+------+\n",
      "|   200|\n",
      "|   307|\n",
      "|   404|\n",
      "+------+\n",
      "\n"
     ]
    }
   ],
   "source": [
    "user_log.select(\"status\").dropDuplicates().sort(\"status\").show()"
   ]
  },
  {
   "cell_type": "code",
   "execution_count": 16,
   "metadata": {
    "scrolled": true
   },
   "outputs": [
    {
     "data": {
      "text/plain": [
       "[Row(userId='18', page='Cancellation Confirmation', level='paid'),\n",
       " Row(userId='32', page='Cancellation Confirmation', level='paid'),\n",
       " Row(userId='125', page='Cancellation Confirmation', level='free'),\n",
       " Row(userId='105', page='Cancellation Confirmation', level='paid'),\n",
       " Row(userId='17', page='Cancellation Confirmation', level='paid'),\n",
       " Row(userId='143', page='Cancellation Confirmation', level='free'),\n",
       " Row(userId='101', page='Cancellation Confirmation', level='paid'),\n",
       " Row(userId='129', page='Cancellation Confirmation', level='paid'),\n",
       " Row(userId='121', page='Cancellation Confirmation', level='paid'),\n",
       " Row(userId='51', page='Cancellation Confirmation', level='paid'),\n",
       " Row(userId='87', page='Cancellation Confirmation', level='paid'),\n",
       " Row(userId='122', page='Cancellation Confirmation', level='paid'),\n",
       " Row(userId='12', page='Cancellation Confirmation', level='paid'),\n",
       " Row(userId='58', page='Cancellation Confirmation', level='paid'),\n",
       " Row(userId='73', page='Cancellation Confirmation', level='paid'),\n",
       " Row(userId='3', page='Cancellation Confirmation', level='paid'),\n",
       " Row(userId='106', page='Cancellation Confirmation', level='paid'),\n",
       " Row(userId='103', page='Cancellation Confirmation', level='paid'),\n",
       " Row(userId='28', page='Cancellation Confirmation', level='paid'),\n",
       " Row(userId='54', page='Cancellation Confirmation', level='paid'),\n",
       " Row(userId='29', page='Cancellation Confirmation', level='paid'),\n",
       " Row(userId='70', page='Cancellation Confirmation', level='paid'),\n",
       " Row(userId='53', page='Cancellation Confirmation', level='paid'),\n",
       " Row(userId='100011', page='Cancellation Confirmation', level='free'),\n",
       " Row(userId='100001', page='Cancellation Confirmation', level='free'),\n",
       " Row(userId='100024', page='Cancellation Confirmation', level='free'),\n",
       " Row(userId='100006', page='Cancellation Confirmation', level='free'),\n",
       " Row(userId='100019', page='Cancellation Confirmation', level='free'),\n",
       " Row(userId='100003', page='Cancellation Confirmation', level='free'),\n",
       " Row(userId='100023', page='Cancellation Confirmation', level='paid'),\n",
       " Row(userId='100005', page='Cancellation Confirmation', level='free'),\n",
       " Row(userId='100017', page='Cancellation Confirmation', level='free'),\n",
       " Row(userId='100025', page='Cancellation Confirmation', level='free'),\n",
       " Row(userId='100009', page='Cancellation Confirmation', level='free'),\n",
       " Row(userId='100012', page='Cancellation Confirmation', level='free'),\n",
       " Row(userId='100013', page='Cancellation Confirmation', level='paid'),\n",
       " Row(userId='100022', page='Cancellation Confirmation', level='free'),\n",
       " Row(userId='100014', page='Cancellation Confirmation', level='paid'),\n",
       " Row(userId='100015', page='Cancellation Confirmation', level='paid'),\n",
       " Row(userId='100021', page='Cancellation Confirmation', level='free'),\n",
       " Row(userId='100007', page='Cancellation Confirmation', level='paid'),\n",
       " Row(userId='200001', page='Cancellation Confirmation', level='free'),\n",
       " Row(userId='200024', page='Cancellation Confirmation', level='paid'),\n",
       " Row(userId='200011', page='Cancellation Confirmation', level='free'),\n",
       " Row(userId='200021', page='Cancellation Confirmation', level='paid'),\n",
       " Row(userId='200018', page='Cancellation Confirmation', level='free'),\n",
       " Row(userId='200015', page='Cancellation Confirmation', level='free'),\n",
       " Row(userId='200017', page='Cancellation Confirmation', level='paid'),\n",
       " Row(userId='200016', page='Cancellation Confirmation', level='free'),\n",
       " Row(userId='200020', page='Cancellation Confirmation', level='free'),\n",
       " Row(userId='300007', page='Cancellation Confirmation', level='paid'),\n",
       " Row(userId='300001', page='Cancellation Confirmation', level='paid')]"
      ]
     },
     "execution_count": 16,
     "metadata": {},
     "output_type": "execute_result"
    }
   ],
   "source": [
    "user_log.select([\"userId\", \"page\", \"level\"]).where(user_log.page =='Cancellation Confirmation').collect()"
   ]
  },
  {
   "cell_type": "code",
   "execution_count": 11,
   "metadata": {},
   "outputs": [],
   "source": [
    "#lambda functiıon for labelling churn\n",
    "cancelConfirm_event = udf(lambda x: 1 if  x==\"Cancellation Confirmation\"  else 0, IntegerType())"
   ]
  },
  {
   "cell_type": "code",
   "execution_count": 12,
   "metadata": {},
   "outputs": [],
   "source": [
    "user_log = user_log.withColumn(\"churn\",cancelConfirm_event(\"page\"))"
   ]
  },
  {
   "cell_type": "code",
   "execution_count": 19,
   "metadata": {},
   "outputs": [
    {
     "data": {
      "text/plain": [
       "[Row(artist='Martha Tilston', auth='Logged In', firstName='Colin', gender='M', itemInSession=50, lastName='Freeman', length=277.89016, level='paid', location='Bakersfield, CA', method='PUT', page='NextSong', registration=1538173362000, sessionId=29, song='Rockpools', status=200, ts=1538352117000, userAgent='Mozilla/5.0 (Windows NT 6.1; WOW64; rv:31.0) Gecko/20100101 Firefox/31.0', userId='30', churn=0),\n",
       " Row(artist='Five Iron Frenzy', auth='Logged In', firstName='Micah', gender='M', itemInSession=79, lastName='Long', length=236.09424, level='free', location='Boston-Cambridge-Newton, MA-NH', method='PUT', page='NextSong', registration=1538331630000, sessionId=8, song='Canada', status=200, ts=1538352180000, userAgent='\"Mozilla/5.0 (Windows NT 6.1; WOW64) AppleWebKit/537.36 (KHTML, like Gecko) Chrome/37.0.2062.103 Safari/537.36\"', userId='9', churn=0)]"
      ]
     },
     "execution_count": 19,
     "metadata": {},
     "output_type": "execute_result"
    }
   ],
   "source": [
    "user_log.head(2)"
   ]
  },
  {
   "cell_type": "code",
   "execution_count": 13,
   "metadata": {},
   "outputs": [],
   "source": [
    "get_hour = udf(lambda x: datetime.datetime.fromtimestamp(x / 1000.0). hour)"
   ]
  },
  {
   "cell_type": "code",
   "execution_count": 14,
   "metadata": {},
   "outputs": [],
   "source": [
    "get_timestamp = udf(lambda x : datetime.datetime.fromtimestamp(x / 1000.0).strftime(\"%Y-%m-%d\"))"
   ]
  },
  {
   "cell_type": "code",
   "execution_count": 15,
   "metadata": {},
   "outputs": [],
   "source": [
    "user_log = user_log.withColumn(\"hour\", get_hour(user_log.ts))"
   ]
  },
  {
   "cell_type": "code",
   "execution_count": 16,
   "metadata": {},
   "outputs": [],
   "source": [
    "user_log = user_log.withColumn(\"date\", get_timestamp(user_log.ts))"
   ]
  },
  {
   "cell_type": "code",
   "execution_count": 17,
   "metadata": {},
   "outputs": [],
   "source": [
    "user_log = user_log.withColumn(\"registrationDate\", get_timestamp(user_log.registration))"
   ]
  },
  {
   "cell_type": "code",
   "execution_count": 18,
   "metadata": {},
   "outputs": [
    {
     "data": {
      "text/plain": [
       "Row(artist='Martha Tilston', auth='Logged In', firstName='Colin', gender='M', itemInSession=50, lastName='Freeman', length=277.89016, level='paid', location='Bakersfield, CA', method='PUT', page='NextSong', registration=1538173362000, sessionId=29, song='Rockpools', status=200, ts=1538352117000, userAgent='Mozilla/5.0 (Windows NT 6.1; WOW64; rv:31.0) Gecko/20100101 Firefox/31.0', userId='30', churn=0, hour='0', date='2018-10-01', registrationDate='2018-09-28')"
      ]
     },
     "execution_count": 18,
     "metadata": {},
     "output_type": "execute_result"
    }
   ],
   "source": [
    "user_log.head()"
   ]
  },
  {
   "cell_type": "code",
   "execution_count": 26,
   "metadata": {},
   "outputs": [],
   "source": [
    "songs_in_hour = user_log.filter(user_log.page == \"NextSong\").groupby(user_log.hour).count().orderBy(user_log.hour.cast(\"float\"))"
   ]
  },
  {
   "cell_type": "code",
   "execution_count": 27,
   "metadata": {
    "scrolled": true
   },
   "outputs": [
    {
     "name": "stdout",
     "output_type": "stream",
     "text": [
      "+----+-----+\n",
      "|hour|count|\n",
      "+----+-----+\n",
      "|   0| 9062|\n",
      "|   1| 8388|\n",
      "|   2| 8336|\n",
      "|   3| 8355|\n",
      "|   4| 8147|\n",
      "|   5| 8178|\n",
      "|   6| 8054|\n",
      "|   7| 8091|\n",
      "|   8| 8253|\n",
      "|   9| 8498|\n",
      "|  10| 8882|\n",
      "|  11| 8830|\n",
      "|  12| 9326|\n",
      "|  13| 9644|\n",
      "|  14|10494|\n",
      "|  15|11354|\n",
      "|  16|11636|\n",
      "|  17|11460|\n",
      "|  18|11124|\n",
      "|  19|10930|\n",
      "+----+-----+\n",
      "only showing top 20 rows\n",
      "\n"
     ]
    }
   ],
   "source": [
    "songs_in_hour.show()"
   ]
  },
  {
   "cell_type": "code",
   "execution_count": 28,
   "metadata": {},
   "outputs": [],
   "source": [
    "churn_in_hour = user_log.filter(user_log.churn == \"1\").groupby(user_log.hour).count().orderBy(user_log.hour.cast(\"float\"))"
   ]
  },
  {
   "cell_type": "code",
   "execution_count": 29,
   "metadata": {
    "scrolled": true
   },
   "outputs": [
    {
     "name": "stdout",
     "output_type": "stream",
     "text": [
      "+----+-----+\n",
      "|hour|count|\n",
      "+----+-----+\n",
      "|   0|    3|\n",
      "|   1|    1|\n",
      "|   2|    1|\n",
      "|   3|    2|\n",
      "|   4|    2|\n",
      "|   5|    1|\n",
      "|   7|    6|\n",
      "|   8|    1|\n",
      "|  10|    1|\n",
      "|  11|    2|\n",
      "|  12|    2|\n",
      "|  13|    1|\n",
      "|  14|    1|\n",
      "|  15|    4|\n",
      "|  16|    4|\n",
      "|  17|    2|\n",
      "|  18|    3|\n",
      "|  19|    5|\n",
      "|  20|    3|\n",
      "|  21|    3|\n",
      "+----+-----+\n",
      "only showing top 20 rows\n",
      "\n"
     ]
    }
   ],
   "source": [
    "churn_in_hour.show()"
   ]
  },
  {
   "cell_type": "code",
   "execution_count": 30,
   "metadata": {},
   "outputs": [],
   "source": [
    "churn_in_hour_pd = churn_in_hour.toPandas()\n",
    "churn_in_hour_pd.hour = pd.to_numeric(churn_in_hour_pd.hour)"
   ]
  },
  {
   "cell_type": "code",
   "execution_count": 31,
   "metadata": {
    "scrolled": true
   },
   "outputs": [
    {
     "data": {
      "image/png": "[encoded data removed]",
      "text/plain": [
       "<matplotlib.figure.Figure at 0x7fa4c450c780>"
      ]
     },
     "metadata": {
      "needs_background": "light"
     },
     "output_type": "display_data"
    }
   ],
   "source": [
    "plt.scatter(churn_in_hour_pd[\"hour\"], churn_in_hour_pd[\"count\"])\n",
    "plt.xlim(-1, 24);\n",
    "plt.ylim(0, 10)\n",
    "plt.xlabel(\"Hour\")\n",
    "plt.ylabel(\"Churn count\");"
   ]
  },
  {
   "cell_type": "code",
   "execution_count": 32,
   "metadata": {
    "scrolled": true
   },
   "outputs": [
    {
     "name": "stdout",
     "output_type": "stream",
     "text": [
      "+-----+-----+\n",
      "|level|count|\n",
      "+-----+-----+\n",
      "| free|   21|\n",
      "| paid|   31|\n",
      "+-----+-----+\n",
      "\n"
     ]
    }
   ],
   "source": [
    "#count of levels which churned users had\n",
    "churn_level = user_log.filter(user_log.churn == \"1\").groupby(user_log.level).count()\n",
    "\n",
    "churn_level.show()"
   ]
  },
  {
   "cell_type": "code",
   "execution_count": 33,
   "metadata": {},
   "outputs": [],
   "source": [
    "churn_level_pd = churn_level.toPandas()"
   ]
  },
  {
   "cell_type": "code",
   "execution_count": 34,
   "metadata": {},
   "outputs": [
    {
     "data": {
      "image/png": "[encoded data removed]",
      "text/plain": [
       "<matplotlib.figure.Figure at 0x7fa4c4440860>"
      ]
     },
     "metadata": {
      "needs_background": "light"
     },
     "output_type": "display_data"
    }
   ],
   "source": [
    "# Plot\n",
    "plt.rcParams['figure.figsize'] = (3,4)\n",
    "sns.barplot(x='level', y = 'count', data = churn_level_pd, saturation = 1);\n",
    "plt.title('Level Distribution of Churned Customer');"
   ]
  },
  {
   "cell_type": "code",
   "execution_count": 35,
   "metadata": {},
   "outputs": [],
   "source": [
    "# for more investigation on data\n",
    "user_log.createOrReplaceTempView(\"user_log_table\")"
   ]
  },
  {
   "cell_type": "code",
   "execution_count": 36,
   "metadata": {},
   "outputs": [
    {
     "name": "stdout",
     "output_type": "stream",
     "text": [
      "+----------------------+\n",
      "|count(DISTINCT userID)|\n",
      "+----------------------+\n",
      "|                    52|\n",
      "+----------------------+\n",
      "\n"
     ]
    }
   ],
   "source": [
    "spark.sql(\"SELECT count(distinct userID) FROM user_log_table where churn='1'\").show()"
   ]
  },
  {
   "cell_type": "code",
   "execution_count": 37,
   "metadata": {},
   "outputs": [
    {
     "name": "stdout",
     "output_type": "stream",
     "text": [
      "+----------------------+\n",
      "|count(DISTINCT userID)|\n",
      "+----------------------+\n",
      "|                   225|\n",
      "+----------------------+\n",
      "\n"
     ]
    }
   ],
   "source": [
    "spark.sql(\"SELECT count(distinct userID) FROM user_log_table\").show()"
   ]
  },
  {
   "cell_type": "code",
   "execution_count": 19,
   "metadata": {},
   "outputs": [],
   "source": [
    "user_window = Window.partitionBy('userID').orderBy(desc('ts')).rangeBetween(Window.unboundedPreceding, 0)"
   ]
  },
  {
   "cell_type": "code",
   "execution_count": 20,
   "metadata": {},
   "outputs": [],
   "source": [
    "user_log = user_log.withColumn(\"churned\", Fmax('churn').over(Window.partitionBy(\"userId\")))"
   ]
  },
  {
   "cell_type": "code",
   "execution_count": 21,
   "metadata": {},
   "outputs": [],
   "source": [
    "user_log = user_log.withColumn(\"lastlevel\", last(col('level')).over(user_window))"
   ]
  },
  {
   "cell_type": "code",
   "execution_count": 41,
   "metadata": {},
   "outputs": [
    {
     "name": "stdout",
     "output_type": "stream",
     "text": [
      "+------+---------+---------+------+-------------+--------+------+-----+--------------------+------+----------------+-------------+---------+----+------+-------------+--------------------+------+-----+----+----------+----------------+-------+---------+\n",
      "|artist|     auth|firstName|gender|itemInSession|lastName|length|level|            location|method|            page| registration|sessionId|song|status|           ts|           userAgent|userId|churn|hour|      date|registrationDate|churned|lastlevel|\n",
      "+------+---------+---------+------+-------------+--------+------+-----+--------------------+------+----------------+-------------+---------+----+------+-------------+--------------------+------+-----+----+----------+----------------+-------+---------+\n",
      "|  null|Logged In|     Lily|     F|           69| Barnett|  null| paid|Washington-Arling...|   PUT|Submit Downgrade|1537053412000|      812|null|   307|1539467798000|\"Mozilla/5.0 (Mac...|    35|    0|  21|2018-10-13|      2018-09-15|      0|     free|\n",
      "+------+---------+---------+------+-------------+--------+------+-----+--------------------+------+----------------+-------------+---------+----+------+-------------+--------------------+------+-----+----+----------+----------------+-------+---------+\n",
      "only showing top 1 row\n",
      "\n"
     ]
    }
   ],
   "source": [
    "user_log.filter(user_log[\"level\"]!= user_log[\"lastlevel\"]).show(1)"
   ]
  },
  {
   "cell_type": "code",
   "execution_count": 42,
   "metadata": {
    "scrolled": true
   },
   "outputs": [
    {
     "name": "stdout",
     "output_type": "stream",
     "text": [
      "+------+------+-----+---------+--------------------+--------------------+------+----------------+----------+-------+-----+\n",
      "|userId|gender|level|lastlevel|                page|                song|status|registrationDate|      date|churned|churn|\n",
      "+------+------+-----+---------+--------------------+--------------------+------+----------------+----------+-------+-----+\n",
      "|   125|     M| free|     free|              Cancel|                null|   307|      2018-08-01|2018-10-12|      1|    0|\n",
      "|   125|     M| free|     free|Cancellation Conf...|                null|   200|      2018-08-01|2018-10-12|      1|    1|\n",
      "|   125|     M| free|     free|         Roll Advert|                null|   200|      2018-08-01|2018-10-12|      1|    0|\n",
      "|   125|     M| free|     free|            NextSong|                Kota|   200|      2018-08-01|2018-10-12|      1|    0|\n",
      "|   125|     M| free|     free|            NextSong|     They're Red Hot|   200|      2018-08-01|2018-10-12|      1|    0|\n",
      "|   125|     M| free|     free|            NextSong|Don't Leave Me Be...|   200|      2018-08-01|2018-10-12|      1|    0|\n",
      "|   125|     M| free|     free|            NextSong|       Love You Down|   200|      2018-08-01|2018-10-12|      1|    0|\n",
      "|   125|     M| free|     free|            NextSong|Leader Of Men (Al...|   200|      2018-08-01|2018-10-12|      1|    0|\n",
      "|   125|     M| free|     free|            NextSong|       I'm On My Way|   200|      2018-08-01|2018-10-12|      1|    0|\n",
      "|   125|     M| free|     free|            NextSong|Hypnotize(Album V...|   200|      2018-08-01|2018-10-12|      1|    0|\n",
      "|   125|     M| free|     free|            NextSong|    paranoid android|   200|      2018-08-01|2018-10-12|      1|    0|\n",
      "|    51|     M| paid|     paid|Cancellation Conf...|                null|   200|      2018-09-27|2018-10-17|      1|    1|\n",
      "|    51|     M| paid|     paid|              Cancel|                null|   307|      2018-09-27|2018-10-17|      1|    0|\n",
      "|    51|     M| paid|     paid|            Settings|                null|   200|      2018-09-27|2018-10-17|      1|    0|\n",
      "|    51|     M| paid|     paid|            NextSong|     Can't Look Down|   200|      2018-09-27|2018-10-17|      1|    0|\n",
      "|    51|     M| paid|     paid|            NextSong|       Nokian Takana|   200|      2018-09-27|2018-10-17|      1|    0|\n",
      "|    51|     M| paid|     paid|            NextSong|You've Got Everyt...|   200|      2018-09-27|2018-10-17|      1|    0|\n",
      "|    51|     M| paid|     paid|            NextSong|       Forever Young|   200|      2018-09-27|2018-10-17|      1|    0|\n",
      "|    51|     M| paid|     paid|            NextSong|Catch You Baby (S...|   200|      2018-09-27|2018-10-17|      1|    0|\n",
      "|    51|     M| paid|     paid|            NextSong|Body Language / i...|   200|      2018-09-27|2018-10-17|      1|    0|\n",
      "|    51|     M| paid|     paid|            NextSong| I CAN'T GET STARTED|   200|      2018-09-27|2018-10-17|      1|    0|\n",
      "|    51|     M| paid|     paid|            NextSong|Never Had A Dream...|   200|      2018-09-27|2018-10-17|      1|    0|\n",
      "|    51|     M| paid|     paid|            NextSong|          The Middle|   200|      2018-09-27|2018-10-17|      1|    0|\n",
      "|    51|     M| paid|     paid|            NextSong|Ain't Talkin' 'Bo...|   200|      2018-09-27|2018-10-17|      1|    0|\n",
      "|    51|     M| paid|     paid|           Thumbs Up|                null|   307|      2018-09-27|2018-10-17|      1|    0|\n",
      "|    51|     M| paid|     paid|            NextSong|          Market Day|   200|      2018-09-27|2018-10-17|      1|    0|\n",
      "|    51|     M| paid|     paid|            NextSong|            Stand Up|   200|      2018-09-27|2018-10-17|      1|    0|\n",
      "|    51|     M| paid|     paid|            NextSong|       Mexican Radio|   200|      2018-09-27|2018-10-17|      1|    0|\n",
      "|    51|     M| paid|     paid|            NextSong|Preciso Me Encontrar|   200|      2018-09-27|2018-10-17|      1|    0|\n",
      "|    51|     M| paid|     paid|            NextSong|          You Got Me|   200|      2018-09-27|2018-10-17|      1|    0|\n",
      "|    51|     M| paid|     paid|            NextSong|            Recuerdo|   200|      2018-09-27|2018-10-17|      1|    0|\n",
      "|    51|     M| paid|     paid|            NextSong|           Kiss Kiss|   200|      2018-09-27|2018-10-17|      1|    0|\n",
      "|    51|     M| paid|     paid|            NextSong|          Kryptonite|   200|      2018-09-27|2018-10-17|      1|    0|\n",
      "|    51|     M| paid|     paid|            NextSong|   It Comes From You|   200|      2018-09-27|2018-10-17|      1|    0|\n",
      "|    51|     M| paid|     paid|         Thumbs Down|                null|   307|      2018-09-27|2018-10-17|      1|    0|\n",
      "|    51|     M| paid|     paid|            NextSong|Wave of Mutilatio...|   200|      2018-09-27|2018-10-17|      1|    0|\n",
      "|    51|     M| paid|     paid|            NextSong|Fulwood Babylon (...|   200|      2018-09-27|2018-10-17|      1|    0|\n",
      "|    51|     M| paid|     paid|                Home|                null|   200|      2018-09-27|2018-10-17|      1|    0|\n",
      "|    51|     M| paid|     paid|            NextSong|  Fly Further to See|   200|      2018-09-27|2018-10-17|      1|    0|\n",
      "|    51|     M| paid|     paid|            NextSong|           Esisti Tu|   200|      2018-09-27|2018-10-17|      1|    0|\n",
      "|    51|     M| paid|     paid|            NextSong|Behind The Sea [L...|   200|      2018-09-27|2018-10-17|      1|    0|\n",
      "|    51|     M| paid|     paid|            NextSong| In The Waiting Line|   200|      2018-09-27|2018-10-17|      1|    0|\n",
      "|    51|     M| paid|     paid|            NextSong|      Sahara Michael|   200|      2018-09-27|2018-10-17|      1|    0|\n",
      "|    51|     M| paid|     paid|            NextSong|      No Me Amenaces|   200|      2018-09-27|2018-10-17|      1|    0|\n",
      "|    51|     M| paid|     paid|            NextSong|            Violaine|   200|      2018-09-27|2018-10-17|      1|    0|\n",
      "|    51|     M| paid|     paid|            NextSong|  This Mess We're In|   200|      2018-09-27|2018-10-17|      1|    0|\n",
      "|    51|     M| paid|     paid|            NextSong|   No I In Threesome|   200|      2018-09-27|2018-10-17|      1|    0|\n",
      "|    51|     M| paid|     paid|            NextSong|             Crystal|   200|      2018-09-27|2018-10-17|      1|    0|\n",
      "|    51|     M| paid|     paid|            NextSong|Hurt of Intention...|   200|      2018-09-27|2018-10-17|      1|    0|\n",
      "|    51|     M| paid|     paid|            NextSong|      I Can't Decide|   200|      2018-09-27|2018-10-17|      1|    0|\n",
      "|    51|     M| paid|     paid|            NextSong|                Dumb|   200|      2018-09-27|2018-10-17|      1|    0|\n",
      "|    51|     M| paid|     paid|            NextSong|The Longer The Wa...|   200|      2018-09-27|2018-10-17|      1|    0|\n",
      "|    51|     M| paid|     paid|           Thumbs Up|                null|   307|      2018-09-27|2018-10-17|      1|    0|\n",
      "|    51|     M| paid|     paid|            NextSong|           Sexy Love|   200|      2018-09-27|2018-10-17|      1|    0|\n",
      "|    51|     M| paid|     paid|            NextSong|        Brand New Me|   200|      2018-09-27|2018-10-17|      1|    0|\n",
      "|    51|     M| paid|     paid|                Home|                null|   200|      2018-09-27|2018-10-17|      1|    0|\n",
      "|    51|     M| paid|     paid|            NextSong|I Don't Know What...|   200|      2018-09-27|2018-10-17|      1|    0|\n",
      "|    51|     M| paid|     paid|            NextSong|      Speed Of Sound|   200|      2018-09-27|2018-10-17|      1|    0|\n",
      "|    51|     M| paid|     paid|            NextSong| Holdin' On Together|   200|      2018-09-27|2018-10-17|      1|    0|\n",
      "|    51|     M| paid|     paid|            NextSong|Close Every Door ...|   200|      2018-09-27|2018-10-17|      1|    0|\n",
      "+------+------+-----+---------+--------------------+--------------------+------+----------------+----------+-------+-----+\n",
      "only showing top 60 rows\n",
      "\n"
     ]
    }
   ],
   "source": [
    "user_log.filter(user_log[\"churned\"] == 1).select([\"userId\", \"gender\", \"level\",\"lastlevel\", \"page\", \"song\", \"status\", \"registrationDate\", \"date\", \"churned\", \"churn\"]).show(60)"
   ]
  },
  {
   "cell_type": "code",
   "execution_count": 43,
   "metadata": {},
   "outputs": [],
   "source": [
    "churned_users=user_log.filter(user_log[\"churned\"] == 1).select([\"userId\", \"gender\", \"level\", \"page\", \"song\", \"status\", \"registrationDate\", \"date\", \"churned\", \"churn\"])"
   ]
  },
  {
   "cell_type": "code",
   "execution_count": 44,
   "metadata": {},
   "outputs": [
    {
     "data": {
      "text/plain": [
       "Row(userId='125', gender='M', level='free', page='NextSong', song='paranoid android', status=200, registrationDate='2018-08-01', date='2018-10-12', churned=1, churn=0)"
      ]
     },
     "execution_count": 44,
     "metadata": {},
     "output_type": "execute_result"
    }
   ],
   "source": [
    "churned_users.head()"
   ]
  },
  {
   "cell_type": "code",
   "execution_count": 45,
   "metadata": {},
   "outputs": [],
   "source": [
    "stayed_users=user_log.filter(user_log[\"churned\"] == 0).select([\"userId\", \"gender\", \"level\", \"page\", \"song\", \"status\", \"registrationDate\", \"date\", \"churned\", \"churn\"])"
   ]
  },
  {
   "cell_type": "code",
   "execution_count": 46,
   "metadata": {},
   "outputs": [],
   "source": [
    "stayed_users.createOrReplaceTempView(\"stayed_users\")"
   ]
  },
  {
   "cell_type": "code",
   "execution_count": 47,
   "metadata": {},
   "outputs": [],
   "source": [
    "churned_users.createOrReplaceTempView(\"churned_users\")"
   ]
  },
  {
   "cell_type": "code",
   "execution_count": 48,
   "metadata": {
    "scrolled": true
   },
   "outputs": [
    {
     "name": "stdout",
     "output_type": "stream",
     "text": [
      "+--------------------+-----+\n",
      "|                page|count|\n",
      "+--------------------+-----+\n",
      "|            NextSong|36394|\n",
      "|           Thumbs Up| 1859|\n",
      "|                Home| 1672|\n",
      "|     Add to Playlist| 1038|\n",
      "|         Roll Advert|  967|\n",
      "|          Add Friend|  636|\n",
      "|              Logout|  553|\n",
      "|         Thumbs Down|  496|\n",
      "|           Downgrade|  337|\n",
      "|            Settings|  270|\n",
      "|                Help|  239|\n",
      "|             Upgrade|  112|\n",
      "|       Save Settings|   58|\n",
      "|               About|   56|\n",
      "|              Cancel|   52|\n",
      "|Cancellation Conf...|   52|\n",
      "|               Error|   32|\n",
      "|      Submit Upgrade|   32|\n",
      "|    Submit Downgrade|    9|\n",
      "+--------------------+-----+\n",
      "\n"
     ]
    }
   ],
   "source": [
    "spark.sql(\"SELECT page, count(*) as count FROM churned_users group by page order by count desc\").show()"
   ]
  },
  {
   "cell_type": "code",
   "execution_count": 49,
   "metadata": {},
   "outputs": [
    {
     "name": "stdout",
     "output_type": "stream",
     "text": [
      "+----------------+------+\n",
      "|            page| count|\n",
      "+----------------+------+\n",
      "|        NextSong|191714|\n",
      "|       Thumbs Up| 10692|\n",
      "|            Home|  8410|\n",
      "| Add to Playlist|  5488|\n",
      "|      Add Friend|  3641|\n",
      "|     Roll Advert|  2966|\n",
      "|          Logout|  2673|\n",
      "|     Thumbs Down|  2050|\n",
      "|       Downgrade|  1718|\n",
      "|        Settings|  1244|\n",
      "|            Help|  1215|\n",
      "|           About|   439|\n",
      "|         Upgrade|   387|\n",
      "|   Save Settings|   252|\n",
      "|           Error|   220|\n",
      "|  Submit Upgrade|   127|\n",
      "|Submit Downgrade|    54|\n",
      "+----------------+------+\n",
      "\n"
     ]
    }
   ],
   "source": [
    "spark.sql(\"SELECT  page, count(*) as count FROM stayed_users group by page order by count desc\").show()"
   ]
  },
  {
   "cell_type": "code",
   "execution_count": 22,
   "metadata": {},
   "outputs": [
    {
     "name": "stdout",
     "output_type": "stream",
     "text": [
      "+------+------------+\n",
      "|userId|artist_count|\n",
      "+------+------------+\n",
      "|100010|         275|\n",
      "|200002|         387|\n",
      "|   125|           8|\n",
      "|    51|        2111|\n",
      "|   124|        4079|\n",
      "+------+------------+\n",
      "only showing top 5 rows\n",
      "\n"
     ]
    }
   ],
   "source": [
    "#creating features for models\n",
    "\n",
    "user_artist = user_log.groupby(\"userId\").agg({\"artist\": \"count\"}).withColumnRenamed(\"count(artist)\", \"artist_count\")\n",
    "\n",
    "user_artist.show(5)"
   ]
  },
  {
   "cell_type": "code",
   "execution_count": 23,
   "metadata": {},
   "outputs": [
    {
     "name": "stdout",
     "output_type": "stream",
     "text": [
      "+------+----------+\n",
      "|userId|song_count|\n",
      "+------+----------+\n",
      "|100010|       275|\n",
      "|200002|       387|\n",
      "|   125|         8|\n",
      "|    51|      2111|\n",
      "|   124|      4079|\n",
      "+------+----------+\n",
      "only showing top 5 rows\n",
      "\n"
     ]
    }
   ],
   "source": [
    "#creating features for models\n",
    "\n",
    "user_song = user_log.groupby(\"userId\").agg({\"song\": \"count\"}).withColumnRenamed(\"count(song)\", \"song_count\")\n",
    "\n",
    "user_song.show(5)"
   ]
  },
  {
   "cell_type": "code",
   "execution_count": 24,
   "metadata": {},
   "outputs": [
    {
     "name": "stdout",
     "output_type": "stream",
     "text": [
      "+------+-----------+\n",
      "|userId|error_count|\n",
      "+------+-----------+\n",
      "|100010|         31|\n",
      "|200002|         37|\n",
      "|   125|          1|\n",
      "|    51|        176|\n",
      "|   124|        357|\n",
      "+------+-----------+\n",
      "only showing top 5 rows\n",
      "\n"
     ]
    }
   ],
   "source": [
    "#creating features for models\n",
    "\n",
    "user_error = user_log.filter(user_log.status != '200').groupby(\"userId\").agg({\"status\": \"count\"}).withColumnRenamed(\"count(status)\", \"error_count\")\n",
    "\n",
    "user_error.show(5)"
   ]
  },
  {
   "cell_type": "code",
   "execution_count": 25,
   "metadata": {},
   "outputs": [
    {
     "name": "stdout",
     "output_type": "stream",
     "text": [
      "+------+----------------+\n",
      "|userId|error_page_count|\n",
      "+------+----------------+\n",
      "|   124|               6|\n",
      "|    51|               1|\n",
      "|     7|               1|\n",
      "|    15|               2|\n",
      "|    54|               1|\n",
      "+------+----------------+\n",
      "only showing top 5 rows\n",
      "\n"
     ]
    }
   ],
   "source": [
    "#creating features for models\n",
    "\n",
    "user_error_page = user_log.filter(user_log.page == 'Error').groupby(\"userId\").agg({\"page\": \"count\"}).withColumnRenamed(\"count(page)\", \"error_page_count\")\n",
    "\n",
    "user_error_page.show(5)"
   ]
  },
  {
   "cell_type": "code",
   "execution_count": 26,
   "metadata": {},
   "outputs": [
    {
     "name": "stdout",
     "output_type": "stream",
     "text": [
      "+------+--------------+\n",
      "|userId|playlist_count|\n",
      "+------+--------------+\n",
      "|100010|             7|\n",
      "|200002|             8|\n",
      "|    51|            52|\n",
      "|   124|           118|\n",
      "|     7|             5|\n",
      "+------+--------------+\n",
      "only showing top 5 rows\n",
      "\n"
     ]
    }
   ],
   "source": [
    "#creating features for models\n",
    "\n",
    "user_playlist = user_log.filter(user_log.page== 'Add to Playlist').groupby(\"userId\").agg({\"page\": \"count\"}).withColumnRenamed(\"count(page)\", \"playlist_count\")\n",
    "\n",
    "user_playlist.show(5)"
   ]
  },
  {
   "cell_type": "code",
   "execution_count": 56,
   "metadata": {
    "scrolled": true
   },
   "outputs": [],
   "source": [
    "#user_downgrade= user_log.filter(user_log.page== 'Submit Downgrade').groupby(\"userId\").agg({\"page\": \"count\"}).withColumnRenamed(\"count(page)\", \"downgrade_count\")\n",
    "\n",
    "#user_downgrade.show(20)"
   ]
  },
  {
   "cell_type": "code",
   "execution_count": 27,
   "metadata": {},
   "outputs": [
    {
     "name": "stdout",
     "output_type": "stream",
     "text": [
      "+------+---------------+\n",
      "|userId|addFriend_count|\n",
      "+------+---------------+\n",
      "|100010|              4|\n",
      "|200002|              4|\n",
      "|    51|             28|\n",
      "|   124|             74|\n",
      "|     7|              1|\n",
      "+------+---------------+\n",
      "only showing top 5 rows\n",
      "\n"
     ]
    }
   ],
   "source": [
    "#creating features for models\n",
    "\n",
    "user_addFriend= user_log.filter(user_log.page== 'Add Friend').groupby(\"userId\").agg({\"page\": \"count\"}).withColumnRenamed(\"count(page)\", \"addFriend_count\")\n",
    "\n",
    "user_addFriend.show(5)"
   ]
  },
  {
   "cell_type": "code",
   "execution_count": 28,
   "metadata": {
    "scrolled": true
   },
   "outputs": [
    {
     "name": "stdout",
     "output_type": "stream",
     "text": [
      "+------+-------------+\n",
      "|userId|upgrade_count|\n",
      "+------+-------------+\n",
      "|200002|            1|\n",
      "|    54|            1|\n",
      "|   155|            1|\n",
      "|   132|            1|\n",
      "|   101|            1|\n",
      "+------+-------------+\n",
      "only showing top 5 rows\n",
      "\n"
     ]
    }
   ],
   "source": [
    "#creating features for models\n",
    "\n",
    "user_upgrade= user_log.filter(user_log.page== 'Submit Upgrade').groupby(\"userId\").agg({\"page\": \"count\"}).withColumnRenamed(\"count(page)\", \"upgrade_count\")\n",
    "\n",
    "user_upgrade.show(5)"
   ]
  },
  {
   "cell_type": "code",
   "execution_count": 29,
   "metadata": {},
   "outputs": [
    {
     "name": "stdout",
     "output_type": "stream",
     "text": [
      "+------+---------------+\n",
      "|userId|visitHome_count|\n",
      "+------+---------------+\n",
      "|100010|             11|\n",
      "|200002|             20|\n",
      "|    51|             75|\n",
      "|   124|            176|\n",
      "|     7|             10|\n",
      "+------+---------------+\n",
      "only showing top 5 rows\n",
      "\n"
     ]
    }
   ],
   "source": [
    "#creating features for models\n",
    "\n",
    "user_visitHome= user_log.filter(user_log.page== 'Home').groupby(\"userId\").agg({\"page\": \"count\"}).withColumnRenamed(\"count(page)\", \"visitHome_count\")\n",
    "\n",
    "user_visitHome.show(5)"
   ]
  },
  {
   "cell_type": "code",
   "execution_count": 30,
   "metadata": {},
   "outputs": [
    {
     "name": "stdout",
     "output_type": "stream",
     "text": [
      "+------+----------------+\n",
      "|userId|thumbsDown_count|\n",
      "+------+----------------+\n",
      "|100010|               5|\n",
      "|200002|               6|\n",
      "|    51|              21|\n",
      "|   124|              41|\n",
      "|     7|               1|\n",
      "+------+----------------+\n",
      "only showing top 5 rows\n",
      "\n"
     ]
    }
   ],
   "source": [
    "#creating features for models\n",
    "\n",
    "user_thumpsDown= user_log.filter(user_log.page== 'Thumbs Down').groupby(\"userId\").agg({\"page\": \"count\"}).withColumnRenamed(\"count(page)\", \"thumbsDown_count\")\n",
    "\n",
    "user_thumpsDown.show(5)"
   ]
  },
  {
   "cell_type": "code",
   "execution_count": 31,
   "metadata": {},
   "outputs": [
    {
     "name": "stdout",
     "output_type": "stream",
     "text": [
      "+------+--------------+\n",
      "|userId|thumbsUp_count|\n",
      "+------+--------------+\n",
      "|100010|            17|\n",
      "|200002|            21|\n",
      "|    51|           100|\n",
      "|   124|           171|\n",
      "|     7|             7|\n",
      "+------+--------------+\n",
      "only showing top 5 rows\n",
      "\n"
     ]
    }
   ],
   "source": [
    "#creating features for models\n",
    "\n",
    "user_thumpsUp= user_log.filter(user_log.page== 'Thumbs Up').groupby(\"userId\").agg({\"page\": \"count\"}).withColumnRenamed(\"count(page)\", \"thumbsUp_count\")\n",
    "\n",
    "user_thumpsUp.show(5)"
   ]
  },
  {
   "cell_type": "code",
   "execution_count": 32,
   "metadata": {},
   "outputs": [
    {
     "name": "stdout",
     "output_type": "stream",
     "text": [
      "+------+----------------+\n",
      "|userId|rollAdvert_count|\n",
      "+------+----------------+\n",
      "|100010|              52|\n",
      "|200002|               7|\n",
      "|   125|               1|\n",
      "|     7|              16|\n",
      "|   124|               4|\n",
      "+------+----------------+\n",
      "only showing top 5 rows\n",
      "\n"
     ]
    }
   ],
   "source": [
    "#creating features for models\n",
    "\n",
    "user_rollAdvert= user_log.filter(user_log.page== 'Roll Advert').groupby(\"userId\").agg({\"page\": \"count\"}).withColumnRenamed(\"count(page)\", \"rollAdvert_count\")\n",
    "\n",
    "user_rollAdvert.show(5)"
   ]
  },
  {
   "cell_type": "code",
   "execution_count": 33,
   "metadata": {},
   "outputs": [
    {
     "name": "stdout",
     "output_type": "stream",
     "text": [
      "+------+---------+\n",
      "|userId|dateCount|\n",
      "+------+---------+\n",
      "|100010|        7|\n",
      "|200002|        7|\n",
      "|   125|        1|\n",
      "|   124|       33|\n",
      "|    51|       13|\n",
      "+------+---------+\n",
      "only showing top 5 rows\n",
      "\n"
     ]
    }
   ],
   "source": [
    "#creating features for models\n",
    "\n",
    "user_activeDays = user_log.select('userId', 'date').groupby('userId').agg(countDistinct('date')).withColumnRenamed('count(DISTINCT date)', 'dateCount')\n",
    "\n",
    "user_activeDays.show(5)"
   ]
  },
  {
   "cell_type": "markdown",
   "metadata": {},
   "source": [
    "# Feature Engineering\n",
    "Once you've familiarized yourself with the data, build out the features you find promising to train your model on. To work with the full dataset, you can follow the following steps.\n",
    "- Write a script to extract the necessary features from the smaller subset of data\n",
    "- Ensure that your script is scalable, using the best practices discussed in Lesson 3\n",
    "- Try your script on the full data set, debugging your script if necessary\n",
    "\n",
    "If you are working in the classroom workspace, you can just extract features based on the small subset of data contained here. Be sure to transfer over this work to the larger dataset when you work on your Spark cluster."
   ]
  },
  {
   "cell_type": "code",
   "execution_count": 34,
   "metadata": {},
   "outputs": [],
   "source": [
    "#dealing with categorical variables\n",
    "indexer = StringIndexer(inputCol=\"lastlevel\", outputCol=\"levelTransformed\")\n",
    "user_log = indexer.fit(user_log).transform(user_log)"
   ]
  },
  {
   "cell_type": "code",
   "execution_count": 35,
   "metadata": {},
   "outputs": [],
   "source": [
    "#dealing with categorical variables\n",
    "indexer = StringIndexer(inputCol=\"gender\", outputCol=\"genderTransformed\")\n",
    "user_log = indexer.fit(user_log).transform(user_log)"
   ]
  },
  {
   "cell_type": "code",
   "execution_count": 36,
   "metadata": {},
   "outputs": [],
   "source": [
    "user_churned = user_log.groupby('userId').max(\"churned\").withColumnRenamed(\"max(churned)\", \"label\")"
   ]
  },
  {
   "cell_type": "code",
   "execution_count": 37,
   "metadata": {},
   "outputs": [],
   "source": [
    "user_level=user_log.groupby('userId').max(\"levelTransformed\").withColumnRenamed(\"max(levelTransformed)\", \"level\")"
   ]
  },
  {
   "cell_type": "code",
   "execution_count": 129,
   "metadata": {},
   "outputs": [
    {
     "data": {
      "text/plain": [
       "207"
      ]
     },
     "execution_count": 129,
     "metadata": {},
     "output_type": "execute_result"
    }
   ],
   "source": [
    "user_rollAdvert.count()  #207"
   ]
  },
  {
   "cell_type": "code",
   "execution_count": 130,
   "metadata": {},
   "outputs": [
    {
     "data": {
      "text/plain": [
       "220"
      ]
     },
     "execution_count": 130,
     "metadata": {},
     "output_type": "execute_result"
    }
   ],
   "source": [
    "user_thumpsUp.count()  #220"
   ]
  },
  {
   "cell_type": "code",
   "execution_count": 131,
   "metadata": {},
   "outputs": [
    {
     "data": {
      "text/plain": [
       "203"
      ]
     },
     "execution_count": 131,
     "metadata": {},
     "output_type": "execute_result"
    }
   ],
   "source": [
    "user_thumpsDown.count() #203"
   ]
  },
  {
   "cell_type": "code",
   "execution_count": 132,
   "metadata": {},
   "outputs": [
    {
     "data": {
      "text/plain": [
       "223"
      ]
     },
     "execution_count": 132,
     "metadata": {},
     "output_type": "execute_result"
    }
   ],
   "source": [
    "user_visitHome.count() #223"
   ]
  },
  {
   "cell_type": "code",
   "execution_count": 133,
   "metadata": {},
   "outputs": [
    {
     "data": {
      "text/plain": [
       "131"
      ]
     },
     "execution_count": 133,
     "metadata": {},
     "output_type": "execute_result"
    }
   ],
   "source": [
    "user_upgrade.count() #131"
   ]
  },
  {
   "cell_type": "code",
   "execution_count": 134,
   "metadata": {},
   "outputs": [
    {
     "data": {
      "text/plain": [
       "49"
      ]
     },
     "execution_count": 134,
     "metadata": {},
     "output_type": "execute_result"
    }
   ],
   "source": [
    "user_downgrade.count() #49 #out"
   ]
  },
  {
   "cell_type": "code",
   "execution_count": 135,
   "metadata": {},
   "outputs": [
    {
     "data": {
      "text/plain": [
       "206"
      ]
     },
     "execution_count": 135,
     "metadata": {},
     "output_type": "execute_result"
    }
   ],
   "source": [
    "user_addFriend.count() #206"
   ]
  },
  {
   "cell_type": "code",
   "execution_count": 136,
   "metadata": {},
   "outputs": [
    {
     "data": {
      "text/plain": [
       "215"
      ]
     },
     "execution_count": 136,
     "metadata": {},
     "output_type": "execute_result"
    }
   ],
   "source": [
    "user_playlist.count()#215"
   ]
  },
  {
   "cell_type": "code",
   "execution_count": 137,
   "metadata": {},
   "outputs": [
    {
     "data": {
      "text/plain": [
       "117"
      ]
     },
     "execution_count": 137,
     "metadata": {},
     "output_type": "execute_result"
    }
   ],
   "source": [
    "user_error_page.count() #117"
   ]
  },
  {
   "cell_type": "code",
   "execution_count": 138,
   "metadata": {},
   "outputs": [
    {
     "data": {
      "text/plain": [
       "223"
      ]
     },
     "execution_count": 138,
     "metadata": {},
     "output_type": "execute_result"
    }
   ],
   "source": [
    "user_error.count() #223"
   ]
  },
  {
   "cell_type": "code",
   "execution_count": 147,
   "metadata": {},
   "outputs": [
    {
     "data": {
      "text/plain": [
       "[Row(userId='100010', level=1.0),\n",
       " Row(userId='200002', level=1.0),\n",
       " Row(userId='125', level=1.0),\n",
       " Row(userId='124', level=0.0),\n",
       " Row(userId='51', level=0.0)]"
      ]
     },
     "execution_count": 147,
     "metadata": {},
     "output_type": "execute_result"
    }
   ],
   "source": [
    "user_level.head(5)"
   ]
  },
  {
   "cell_type": "code",
   "execution_count": 38,
   "metadata": {},
   "outputs": [],
   "source": [
    "user_gender=user_log.groupby('userId').max(\"genderTransformed\").withColumnRenamed(\"max(genderTransformed)\", \"gender\")"
   ]
  },
  {
   "cell_type": "code",
   "execution_count": 39,
   "metadata": {},
   "outputs": [],
   "source": [
    "#creating feature data frame without loosing data wiht left join\n",
    "feature=user_churned.join(user_rollAdvert, ['userId'],how='left') \\\n",
    "    .join(user_thumpsUp, ['userId'],how='left') \\\n",
    "    .join(user_thumpsDown, ['userId'],how='left') \\\n",
    "    .join(user_visitHome, ['userId'],how='left') \\\n",
    "    .join(user_upgrade, ['userId'],how='left') \\\n",
    "    .join(user_addFriend, ['userId'],how='left') \\\n",
    "    .join(user_playlist, ['userId'],how='left') \\\n",
    "    .join(user_error_page, ['userId'],how='left') \\\n",
    "    .join(user_error, ['userId'],how='left') \\\n",
    "    .join(user_song, ['userId'],how='left') \\\n",
    "    .join(user_artist, ['userId'],how='left') \\\n",
    "    .join(user_activeDays, ['userId'],how='left') \\\n",
    "    .join(user_level, ['userId'],how='left') \\\n",
    "    .join(user_gender, ['userId'],how='left')"
   ]
  },
  {
   "cell_type": "code",
   "execution_count": 40,
   "metadata": {
    "scrolled": true
   },
   "outputs": [
    {
     "data": {
      "text/plain": [
       "Row(userId='100010', label=0, rollAdvert_count=52, thumbsUp_count=17, thumbsDown_count=5, visitHome_count=11, upgrade_count=None, addFriend_count=4, playlist_count=7, error_page_count=None, error_count=31, song_count=275, artist_count=275, dateCount=7, level=1.0, gender=0.0)"
      ]
     },
     "execution_count": 40,
     "metadata": {},
     "output_type": "execute_result"
    }
   ],
   "source": [
    "feature.head()"
   ]
  },
  {
   "cell_type": "code",
   "execution_count": 71,
   "metadata": {},
   "outputs": [
    {
     "data": {
      "text/plain": [
       "225"
      ]
     },
     "execution_count": 71,
     "metadata": {},
     "output_type": "execute_result"
    }
   ],
   "source": [
    "feature.count()"
   ]
  },
  {
   "cell_type": "code",
   "execution_count": 41,
   "metadata": {},
   "outputs": [],
   "source": [
    "feature = feature.fillna(0)"
   ]
  },
  {
   "cell_type": "code",
   "execution_count": 42,
   "metadata": {},
   "outputs": [],
   "source": [
    "feature=feature.drop('userId')"
   ]
  },
  {
   "cell_type": "code",
   "execution_count": 64,
   "metadata": {},
   "outputs": [
    {
     "data": {
      "text/html": [
       "<div>\n",
       "<style scoped>\n",
       "    .dataframe tbody tr th:only-of-type {\n",
       "        vertical-align: middle;\n",
       "    }\n",
       "\n",
       "    .dataframe tbody tr th {\n",
       "        vertical-align: top;\n",
       "    }\n",
       "\n",
       "    .dataframe thead th {\n",
       "        text-align: right;\n",
       "    }\n",
       "</style>\n",
       "<table border=\"1\" class=\"dataframe\">\n",
       "  <thead>\n",
       "    <tr style=\"text-align: right;\">\n",
       "      <th></th>\n",
       "      <th>0</th>\n",
       "      <th>1</th>\n",
       "      <th>2</th>\n",
       "      <th>3</th>\n",
       "      <th>4</th>\n",
       "    </tr>\n",
       "  </thead>\n",
       "  <tbody>\n",
       "    <tr>\n",
       "      <th>summary</th>\n",
       "      <td>count</td>\n",
       "      <td>mean</td>\n",
       "      <td>stddev</td>\n",
       "      <td>min</td>\n",
       "      <td>max</td>\n",
       "    </tr>\n",
       "    <tr>\n",
       "      <th>label</th>\n",
       "      <td>225</td>\n",
       "      <td>0.2311111111111111</td>\n",
       "      <td>0.4224832108996327</td>\n",
       "      <td>0</td>\n",
       "      <td>1</td>\n",
       "    </tr>\n",
       "    <tr>\n",
       "      <th>rollAdvert_count</th>\n",
       "      <td>225</td>\n",
       "      <td>17.48</td>\n",
       "      <td>21.550207158434198</td>\n",
       "      <td>0</td>\n",
       "      <td>128</td>\n",
       "    </tr>\n",
       "    <tr>\n",
       "      <th>thumbsUp_count</th>\n",
       "      <td>225</td>\n",
       "      <td>55.782222222222224</td>\n",
       "      <td>65.47792460907043</td>\n",
       "      <td>0</td>\n",
       "      <td>437</td>\n",
       "    </tr>\n",
       "    <tr>\n",
       "      <th>thumbsDown_count</th>\n",
       "      <td>225</td>\n",
       "      <td>11.315555555555555</td>\n",
       "      <td>13.077481251105503</td>\n",
       "      <td>0</td>\n",
       "      <td>75</td>\n",
       "    </tr>\n",
       "    <tr>\n",
       "      <th>visitHome_count</th>\n",
       "      <td>225</td>\n",
       "      <td>44.80888888888889</td>\n",
       "      <td>47.29612177463004</td>\n",
       "      <td>0</td>\n",
       "      <td>355</td>\n",
       "    </tr>\n",
       "    <tr>\n",
       "      <th>upgrade_count</th>\n",
       "      <td>225</td>\n",
       "      <td>0.7066666666666667</td>\n",
       "      <td>0.7338742593737899</td>\n",
       "      <td>0</td>\n",
       "      <td>4</td>\n",
       "    </tr>\n",
       "    <tr>\n",
       "      <th>addFriend_count</th>\n",
       "      <td>225</td>\n",
       "      <td>19.00888888888889</td>\n",
       "      <td>20.581716728496275</td>\n",
       "      <td>0</td>\n",
       "      <td>143</td>\n",
       "    </tr>\n",
       "    <tr>\n",
       "      <th>playlist_count</th>\n",
       "      <td>225</td>\n",
       "      <td>29.004444444444445</td>\n",
       "      <td>32.716653931055426</td>\n",
       "      <td>0</td>\n",
       "      <td>240</td>\n",
       "    </tr>\n",
       "    <tr>\n",
       "      <th>error_page_count</th>\n",
       "      <td>225</td>\n",
       "      <td>1.12</td>\n",
       "      <td>1.4726070176973318</td>\n",
       "      <td>0</td>\n",
       "      <td>7</td>\n",
       "    </tr>\n",
       "    <tr>\n",
       "      <th>error_count</th>\n",
       "      <td>225</td>\n",
       "      <td>104.16</td>\n",
       "      <td>112.40671211529776</td>\n",
       "      <td>0</td>\n",
       "      <td>723</td>\n",
       "    </tr>\n",
       "    <tr>\n",
       "      <th>song_count</th>\n",
       "      <td>225</td>\n",
       "      <td>1013.8133333333334</td>\n",
       "      <td>1104.9607785540886</td>\n",
       "      <td>3</td>\n",
       "      <td>8002</td>\n",
       "    </tr>\n",
       "    <tr>\n",
       "      <th>artist_count</th>\n",
       "      <td>225</td>\n",
       "      <td>1013.8133333333334</td>\n",
       "      <td>1104.9607785540886</td>\n",
       "      <td>3</td>\n",
       "      <td>8002</td>\n",
       "    </tr>\n",
       "    <tr>\n",
       "      <th>dateCount</th>\n",
       "      <td>225</td>\n",
       "      <td>13.884444444444444</td>\n",
       "      <td>11.07381797053051</td>\n",
       "      <td>1</td>\n",
       "      <td>59</td>\n",
       "    </tr>\n",
       "    <tr>\n",
       "      <th>level</th>\n",
       "      <td>225</td>\n",
       "      <td>0.8666666666666667</td>\n",
       "      <td>0.34069257193462343</td>\n",
       "      <td>0.0</td>\n",
       "      <td>1.0</td>\n",
       "    </tr>\n",
       "    <tr>\n",
       "      <th>gender</th>\n",
       "      <td>225</td>\n",
       "      <td>0.5377777777777778</td>\n",
       "      <td>0.49968243883744773</td>\n",
       "      <td>0.0</td>\n",
       "      <td>1.0</td>\n",
       "    </tr>\n",
       "  </tbody>\n",
       "</table>\n",
       "</div>"
      ],
      "text/plain": [
       "                      0                   1                    2    3     4\n",
       "summary           count                mean               stddev  min   max\n",
       "label               225  0.2311111111111111   0.4224832108996327    0     1\n",
       "rollAdvert_count    225               17.48   21.550207158434198    0   128\n",
       "thumbsUp_count      225  55.782222222222224    65.47792460907043    0   437\n",
       "thumbsDown_count    225  11.315555555555555   13.077481251105503    0    75\n",
       "visitHome_count     225   44.80888888888889    47.29612177463004    0   355\n",
       "upgrade_count       225  0.7066666666666667   0.7338742593737899    0     4\n",
       "addFriend_count     225   19.00888888888889   20.581716728496275    0   143\n",
       "playlist_count      225  29.004444444444445   32.716653931055426    0   240\n",
       "error_page_count    225                1.12   1.4726070176973318    0     7\n",
       "error_count         225              104.16   112.40671211529776    0   723\n",
       "song_count          225  1013.8133333333334   1104.9607785540886    3  8002\n",
       "artist_count        225  1013.8133333333334   1104.9607785540886    3  8002\n",
       "dateCount           225  13.884444444444444    11.07381797053051    1    59\n",
       "level               225  0.8666666666666667  0.34069257193462343  0.0   1.0\n",
       "gender              225  0.5377777777777778  0.49968243883744773  0.0   1.0"
      ]
     },
     "execution_count": 64,
     "metadata": {},
     "output_type": "execute_result"
    }
   ],
   "source": [
    "feature.describe().toPandas().transpose()"
   ]
  },
  {
   "cell_type": "code",
   "execution_count": 86,
   "metadata": {},
   "outputs": [],
   "source": [
    "#after some descriptive observations of feature data frame, ı decided to drop artist_count as it same with song_count\n",
    "feature=feature.drop('artist_count')"
   ]
  },
  {
   "cell_type": "code",
   "execution_count": 87,
   "metadata": {},
   "outputs": [],
   "source": [
    "feature_pd = feature.toPandas()"
   ]
  },
  {
   "cell_type": "code",
   "execution_count": 88,
   "metadata": {},
   "outputs": [
    {
     "data": {
      "text/html": [
       "<div>\n",
       "<style scoped>\n",
       "    .dataframe tbody tr th:only-of-type {\n",
       "        vertical-align: middle;\n",
       "    }\n",
       "\n",
       "    .dataframe tbody tr th {\n",
       "        vertical-align: top;\n",
       "    }\n",
       "\n",
       "    .dataframe thead th {\n",
       "        text-align: right;\n",
       "    }\n",
       "</style>\n",
       "<table border=\"1\" class=\"dataframe\">\n",
       "  <thead>\n",
       "    <tr style=\"text-align: right;\">\n",
       "      <th></th>\n",
       "      <th>label</th>\n",
       "      <th>rollAdvert_count</th>\n",
       "      <th>thumbsUp_count</th>\n",
       "      <th>thumbsDown_count</th>\n",
       "      <th>visitHome_count</th>\n",
       "      <th>upgrade_count</th>\n",
       "      <th>addFriend_count</th>\n",
       "      <th>playlist_count</th>\n",
       "      <th>error_page_count</th>\n",
       "      <th>error_count</th>\n",
       "      <th>song_count</th>\n",
       "      <th>dateCount</th>\n",
       "      <th>level</th>\n",
       "      <th>gender</th>\n",
       "    </tr>\n",
       "  </thead>\n",
       "  <tbody>\n",
       "    <tr>\n",
       "      <th>0</th>\n",
       "      <td>0</td>\n",
       "      <td>52</td>\n",
       "      <td>17</td>\n",
       "      <td>5</td>\n",
       "      <td>11</td>\n",
       "      <td>0</td>\n",
       "      <td>4</td>\n",
       "      <td>7</td>\n",
       "      <td>0</td>\n",
       "      <td>31</td>\n",
       "      <td>275</td>\n",
       "      <td>7</td>\n",
       "      <td>1.0</td>\n",
       "      <td>0.0</td>\n",
       "    </tr>\n",
       "    <tr>\n",
       "      <th>1</th>\n",
       "      <td>0</td>\n",
       "      <td>7</td>\n",
       "      <td>21</td>\n",
       "      <td>6</td>\n",
       "      <td>20</td>\n",
       "      <td>1</td>\n",
       "      <td>4</td>\n",
       "      <td>8</td>\n",
       "      <td>0</td>\n",
       "      <td>37</td>\n",
       "      <td>387</td>\n",
       "      <td>7</td>\n",
       "      <td>1.0</td>\n",
       "      <td>1.0</td>\n",
       "    </tr>\n",
       "    <tr>\n",
       "      <th>2</th>\n",
       "      <td>1</td>\n",
       "      <td>1</td>\n",
       "      <td>0</td>\n",
       "      <td>0</td>\n",
       "      <td>0</td>\n",
       "      <td>0</td>\n",
       "      <td>0</td>\n",
       "      <td>0</td>\n",
       "      <td>0</td>\n",
       "      <td>1</td>\n",
       "      <td>8</td>\n",
       "      <td>1</td>\n",
       "      <td>1.0</td>\n",
       "      <td>1.0</td>\n",
       "    </tr>\n",
       "    <tr>\n",
       "      <th>3</th>\n",
       "      <td>0</td>\n",
       "      <td>4</td>\n",
       "      <td>171</td>\n",
       "      <td>41</td>\n",
       "      <td>176</td>\n",
       "      <td>0</td>\n",
       "      <td>74</td>\n",
       "      <td>118</td>\n",
       "      <td>6</td>\n",
       "      <td>357</td>\n",
       "      <td>4079</td>\n",
       "      <td>33</td>\n",
       "      <td>0.0</td>\n",
       "      <td>0.0</td>\n",
       "    </tr>\n",
       "    <tr>\n",
       "      <th>4</th>\n",
       "      <td>1</td>\n",
       "      <td>0</td>\n",
       "      <td>100</td>\n",
       "      <td>21</td>\n",
       "      <td>75</td>\n",
       "      <td>0</td>\n",
       "      <td>28</td>\n",
       "      <td>52</td>\n",
       "      <td>1</td>\n",
       "      <td>176</td>\n",
       "      <td>2111</td>\n",
       "      <td>13</td>\n",
       "      <td>0.0</td>\n",
       "      <td>1.0</td>\n",
       "    </tr>\n",
       "  </tbody>\n",
       "</table>\n",
       "</div>"
      ],
      "text/plain": [
       "   label  rollAdvert_count  thumbsUp_count  thumbsDown_count  visitHome_count  \\\n",
       "0      0                52              17                 5               11   \n",
       "1      0                 7              21                 6               20   \n",
       "2      1                 1               0                 0                0   \n",
       "3      0                 4             171                41              176   \n",
       "4      1                 0             100                21               75   \n",
       "\n",
       "   upgrade_count  addFriend_count  playlist_count  error_page_count  \\\n",
       "0              0                4               7                 0   \n",
       "1              1                4               8                 0   \n",
       "2              0                0               0                 0   \n",
       "3              0               74             118                 6   \n",
       "4              0               28              52                 1   \n",
       "\n",
       "   error_count  song_count  dateCount  level  gender  \n",
       "0           31         275          7    1.0     0.0  \n",
       "1           37         387          7    1.0     1.0  \n",
       "2            1           8          1    1.0     1.0  \n",
       "3          357        4079         33    0.0     0.0  \n",
       "4          176        2111         13    0.0     1.0  "
      ]
     },
     "execution_count": 88,
     "metadata": {},
     "output_type": "execute_result"
    }
   ],
   "source": [
    "feature_pd.head()"
   ]
  },
  {
   "cell_type": "code",
   "execution_count": 89,
   "metadata": {},
   "outputs": [
    {
     "data": {
      "image/png": "[encoded data removed]",
      "text/plain": [
       "<matplotlib.figure.Figure at 0x7f90a2258668>"
      ]
     },
     "metadata": {
      "needs_background": "light"
     },
     "output_type": "display_data"
    }
   ],
   "source": [
    "# Calculate correlations between numerical features\n",
    "cormat = feature_pd[['rollAdvert_count','thumbsUp_count', 'thumbsDown_count', 'visitHome_count','upgrade_count','addFriend_count', \n",
    "'playlist_count', 'error_page_count', 'error_count', 'song_count', 'dateCount','level','gender']].corr()\n",
    "\n",
    "# Plot correlations\n",
    "plt.rcParams['figure.figsize'] = (10,10)\n",
    "plt.subplots_adjust(left=0.20, right=0.9, top=0.95, bottom=0.15)\n",
    "sns.heatmap(cormat, cmap = sns.diverging_palette(220, 10, as_cmap = True), square = True, vmin = -1, vmax = 1);\n",
    "plt.title('Feature correlations');\n",
    "plt.savefig('correlations.png')"
   ]
  },
  {
   "cell_type": "code",
   "execution_count": 90,
   "metadata": {},
   "outputs": [],
   "source": [
    "# Define colors\n",
    "colors = [\"windows blue\", \"faded orange\"]\n",
    "palette = sns.xkcd_palette(colors)\n",
    "color1 = palette[0]\n",
    "color2 = palette[1]"
   ]
  },
  {
   "cell_type": "code",
   "execution_count": 102,
   "metadata": {},
   "outputs": [
    {
     "data": {
      "image/png": "[encoded data removed]",
      "text/plain": [
       "<matplotlib.figure.Figure at 0x7f90a93899b0>"
      ]
     },
     "metadata": {
      "needs_background": "light"
     },
     "output_type": "display_data"
    }
   ],
   "source": [
    "# Plotting the relationship between each numerical feature\n",
    "\n",
    "col = ['rollAdvert_count','thumbsUp_count', 'thumbsDown_count', 'visitHome_count','upgrade_count','addFriend_count', \n",
    "'playlist_count', 'error_page_count', 'error_count', 'song_count','dateCount']\n",
    "\n",
    "plt.rcParams['figure.figsize'] = (12,16)\n",
    "for i in range(len(col)):\n",
    "    plt.subplot(5,3,i+1)\n",
    "    plt.tight_layout();\n",
    "    sns.distplot(feature_pd[feature_pd['label'] == 0][col[i]], hist = False, norm_hist = True, \n",
    "                 kde_kws = {'shade': True, 'linewidth': 2}, color = color1);\n",
    "    sns.distplot(feature_pd[feature_pd['label'] == 1][col[i]], hist = False, norm_hist = True, \n",
    "                 kde_kws = {'shade': True, 'linewidth': 2}, color = color2);\n",
    "    plt.legend(['Not Churned','Churned']);\n",
    "    plt.title(col[i]);\n",
    "    plt.xlabel(\" \");\n",
    "    plt.yticks([]);\n",
    "    plt.savefig('exploratory.png')"
   ]
  },
  {
   "cell_type": "markdown",
   "metadata": {},
   "source": [
    "# Modeling\n",
    "Split the full dataset into train, test, and validation sets. Test out several of the machine learning methods you learned. Evaluate the accuracy of the various models, tuning parameters as necessary. Determine your winning model based on test accuracy and report results on the validation set. Since the churned users are a fairly small subset, I suggest using F1 score as the metric to optimize."
   ]
  },
  {
   "cell_type": "code",
   "execution_count": 93,
   "metadata": {},
   "outputs": [],
   "source": [
    "feature_names = ['rollAdvert_count','thumbsUp_count', 'thumbsDown_count', 'visitHome_count','upgrade_count', 'addFriend_count', \n",
    "'playlist_count', 'error_page_count', 'error_count', 'song_count','dateCount','level','gender']\n",
    "\n",
    "def build_model(classifier, param):\n",
    "    assembler = VectorAssembler(inputCols=feature_names, outputCol=\"features_vec\")\n",
    "    scalar = MinMaxScaler(inputCol=\"features_vec\", outputCol=\"features\")\n",
    "    pipeline = Pipeline(stages=[assembler, scalar, classifier])\n",
    "\n",
    "    model = CrossValidator(\n",
    "        estimator=pipeline,\n",
    "        estimatorParamMaps=param,\n",
    "        evaluator=MulticlassClassificationEvaluator(labelCol='label', metricName='f1'),\n",
    "        numFolds=5,\n",
    "    )\n",
    "    return model"
   ]
  },
  {
   "cell_type": "code",
   "execution_count": 94,
   "metadata": {},
   "outputs": [],
   "source": [
    "train, test = feature.randomSplit([0.8, 0.2], seed = 9) "
   ]
  },
  {
   "cell_type": "markdown",
   "metadata": {},
   "source": [
    "## Logistic Regression"
   ]
  },
  {
   "cell_type": "code",
   "execution_count": 95,
   "metadata": {},
   "outputs": [],
   "source": [
    "# Create a logistic regression object\n",
    "lr = LogisticRegression(featuresCol=\"features\", labelCol=\"label\")"
   ]
  },
  {
   "cell_type": "code",
   "execution_count": 96,
   "metadata": {},
   "outputs": [],
   "source": [
    "# Parameter combinations\n",
    "paramGrid_lr = ParamGridBuilder()\\\n",
    ".addGrid(lr.maxIter, [10]) \\\n",
    ".addGrid(lr.regParam, [0.0]) \\\n",
    ".addGrid(lr.elasticNetParam, [0.0]) \\\n",
    ".build()"
   ]
  },
  {
   "cell_type": "code",
   "execution_count": 97,
   "metadata": {},
   "outputs": [],
   "source": [
    "#building model\n",
    "model = build_model(lr, paramGrid_lr)"
   ]
  },
  {
   "cell_type": "code",
   "execution_count": 98,
   "metadata": {},
   "outputs": [
    {
     "name": "stdout",
     "output_type": "stream",
     "text": [
      "CPU times: user 4.93 s, sys: 1.55 s, total: 6.48 s\n",
      "Wall time: 12min 54s\n"
     ]
    }
   ],
   "source": [
    "%%time\n",
    "model_lr = model.fit(train)"
   ]
  },
  {
   "cell_type": "code",
   "execution_count": 99,
   "metadata": {},
   "outputs": [],
   "source": [
    "pred = model_lr.transform(test)"
   ]
  },
  {
   "cell_type": "code",
   "execution_count": 100,
   "metadata": {
    "scrolled": true
   },
   "outputs": [
    {
     "data": {
      "text/plain": [
       "Row(label=0, rollAdvert_count=11, thumbsUp_count=303, thumbsDown_count=28, visitHome_count=151, upgrade_count=0, addFriend_count=63, playlist_count=113, error_page_count=5, error_count=443, song_count=3632, dateCount=50, level=0.0, gender=0.0, features_vec=DenseVector([11.0, 303.0, 28.0, 151.0, 0.0, 63.0, 113.0, 5.0, 443.0, 3632.0, 50.0, 0.0, 0.0]), features=DenseVector([0.0859, 0.6934, 0.3733, 0.4254, 0.0, 0.4406, 0.4708, 0.7143, 0.6127, 0.4537, 0.8448, 0.0, 0.0]), rawPrediction=DenseVector([8.6895, -8.6895]), probability=DenseVector([0.9998, 0.0002]), prediction=0.0)"
      ]
     },
     "execution_count": 100,
     "metadata": {},
     "output_type": "execute_result"
    }
   ],
   "source": [
    "pred.head()"
   ]
  },
  {
   "cell_type": "code",
   "execution_count": 101,
   "metadata": {},
   "outputs": [
    {
     "name": "stdout",
     "output_type": "stream",
     "text": [
      "f1: 0.6466837169650469 , accuracy: 0.717391304347826\n"
     ]
    }
   ],
   "source": [
    "#create evaluator to get F1 score and accuracy metrics\n",
    "evaluator = MulticlassClassificationEvaluator(predictionCol=\"prediction\", labelCol=\"label\")\n",
    "f1_score = evaluator.evaluate(pred, {evaluator.metricName: \"f1\"})\n",
    "accuracy = evaluator.evaluate(pred, {evaluator.metricName: \"accuracy\"})\n",
    "print(\"f1: {} , accuracy: {}\".format(f1_score, accuracy))"
   ]
  },
  {
   "cell_type": "markdown",
   "metadata": {},
   "source": [
    "## Random Forest Classifier"
   ]
  },
  {
   "cell_type": "code",
   "execution_count": 103,
   "metadata": {},
   "outputs": [],
   "source": [
    "# Create a random forest classifier object\n",
    "rf = RandomForestClassifier(featuresCol=\"features\", labelCol=\"label\")"
   ]
  },
  {
   "cell_type": "code",
   "execution_count": 104,
   "metadata": {},
   "outputs": [],
   "source": [
    "# Parameter combinations\n",
    "paramGrid_rf = ParamGridBuilder() \\\n",
    ".addGrid(rf.maxDepth, [4]) \\\n",
    ".addGrid(rf.numTrees, [40]) \\\n",
    ".build()"
   ]
  },
  {
   "cell_type": "code",
   "execution_count": 105,
   "metadata": {},
   "outputs": [],
   "source": [
    "model = build_model(rf, paramGrid_rf)"
   ]
  },
  {
   "cell_type": "code",
   "execution_count": 106,
   "metadata": {},
   "outputs": [
    {
     "name": "stdout",
     "output_type": "stream",
     "text": [
      "CPU times: user 4.93 s, sys: 1.41 s, total: 6.34 s\n",
      "Wall time: 15min 16s\n"
     ]
    }
   ],
   "source": [
    "%%time\n",
    "rf_model = model.fit(train)"
   ]
  },
  {
   "cell_type": "code",
   "execution_count": 107,
   "metadata": {},
   "outputs": [],
   "source": [
    "pred_rf = rf_model.transform(test)"
   ]
  },
  {
   "cell_type": "code",
   "execution_count": 108,
   "metadata": {},
   "outputs": [
    {
     "name": "stdout",
     "output_type": "stream",
     "text": [
      "f1: 0.6187841144362883 , accuracy: 0.717391304347826\n"
     ]
    }
   ],
   "source": [
    "#create evaluator to get F1 score and accuracy metrics\n",
    "evaluator = MulticlassClassificationEvaluator(predictionCol=\"prediction\", labelCol=\"label\")\n",
    "f1_score = evaluator.evaluate(pred_rf, {evaluator.metricName: \"f1\"})\n",
    "accuracy = evaluator.evaluate(pred_rf, {evaluator.metricName: \"accuracy\"})\n",
    "print(\"f1: {} , accuracy: {}\".format(f1_score, accuracy))"
   ]
  },
  {
   "cell_type": "code",
   "execution_count": 129,
   "metadata": {},
   "outputs": [
    {
     "data": {
      "text/html": [
       "<div>\n",
       "<style scoped>\n",
       "    .dataframe tbody tr th:only-of-type {\n",
       "        vertical-align: middle;\n",
       "    }\n",
       "\n",
       "    .dataframe tbody tr th {\n",
       "        vertical-align: top;\n",
       "    }\n",
       "\n",
       "    .dataframe thead th {\n",
       "        text-align: right;\n",
       "    }\n",
       "</style>\n",
       "<table border=\"1\" class=\"dataframe\">\n",
       "  <thead>\n",
       "    <tr style=\"text-align: right;\">\n",
       "      <th></th>\n",
       "      <th>feature</th>\n",
       "      <th>importance</th>\n",
       "    </tr>\n",
       "  </thead>\n",
       "  <tbody>\n",
       "    <tr>\n",
       "      <th>10</th>\n",
       "      <td>dateCount</td>\n",
       "      <td>0.135134</td>\n",
       "    </tr>\n",
       "    <tr>\n",
       "      <th>6</th>\n",
       "      <td>playlist_count</td>\n",
       "      <td>0.135075</td>\n",
       "    </tr>\n",
       "    <tr>\n",
       "      <th>2</th>\n",
       "      <td>thumbsDown_count</td>\n",
       "      <td>0.134857</td>\n",
       "    </tr>\n",
       "    <tr>\n",
       "      <th>0</th>\n",
       "      <td>rollAdvert_count</td>\n",
       "      <td>0.124970</td>\n",
       "    </tr>\n",
       "    <tr>\n",
       "      <th>9</th>\n",
       "      <td>song_count</td>\n",
       "      <td>0.086555</td>\n",
       "    </tr>\n",
       "    <tr>\n",
       "      <th>3</th>\n",
       "      <td>visitHome_count</td>\n",
       "      <td>0.082463</td>\n",
       "    </tr>\n",
       "    <tr>\n",
       "      <th>8</th>\n",
       "      <td>error_count</td>\n",
       "      <td>0.081788</td>\n",
       "    </tr>\n",
       "    <tr>\n",
       "      <th>5</th>\n",
       "      <td>addFriend_count</td>\n",
       "      <td>0.081522</td>\n",
       "    </tr>\n",
       "    <tr>\n",
       "      <th>1</th>\n",
       "      <td>thumbsUp_count</td>\n",
       "      <td>0.076494</td>\n",
       "    </tr>\n",
       "    <tr>\n",
       "      <th>7</th>\n",
       "      <td>error_page_count</td>\n",
       "      <td>0.032399</td>\n",
       "    </tr>\n",
       "    <tr>\n",
       "      <th>4</th>\n",
       "      <td>upgrade_count</td>\n",
       "      <td>0.023621</td>\n",
       "    </tr>\n",
       "    <tr>\n",
       "      <th>12</th>\n",
       "      <td>gender</td>\n",
       "      <td>0.005122</td>\n",
       "    </tr>\n",
       "    <tr>\n",
       "      <th>11</th>\n",
       "      <td>level</td>\n",
       "      <td>0.000000</td>\n",
       "    </tr>\n",
       "  </tbody>\n",
       "</table>\n",
       "</div>"
      ],
      "text/plain": [
       "             feature  importance\n",
       "10         dateCount    0.135134\n",
       "6     playlist_count    0.135075\n",
       "2   thumbsDown_count    0.134857\n",
       "0   rollAdvert_count    0.124970\n",
       "9         song_count    0.086555\n",
       "3    visitHome_count    0.082463\n",
       "8        error_count    0.081788\n",
       "5    addFriend_count    0.081522\n",
       "1     thumbsUp_count    0.076494\n",
       "7   error_page_count    0.032399\n",
       "4      upgrade_count    0.023621\n",
       "12            gender    0.005122\n",
       "11             level    0.000000"
      ]
     },
     "execution_count": 129,
     "metadata": {},
     "output_type": "execute_result"
    }
   ],
   "source": [
    "# Display feature importances\n",
    "importances = rf_model.bestModel.stages[2].featureImportances\n",
    "importances_list = [importances[i] for i in range(len(importances))]\n",
    "names = feature_names\n",
    "pd.DataFrame({\"feature\": names,\"importance\": importances_list, }).sort_values('importance', ascending = False)"
   ]
  },
  {
   "cell_type": "markdown",
   "metadata": {},
   "source": [
    "## Gradient Boosted Tree Classifier"
   ]
  },
  {
   "cell_type": "code",
   "execution_count": 109,
   "metadata": {},
   "outputs": [],
   "source": [
    "# Create a gradient boosted tree classifier object\n",
    "gbt = GBTClassifier(featuresCol=\"features\", labelCol=\"label\")"
   ]
  },
  {
   "cell_type": "code",
   "execution_count": 110,
   "metadata": {},
   "outputs": [],
   "source": [
    "# Parameter combinations\n",
    "paramGrid_gbt = ParamGridBuilder() \\\n",
    ".addGrid(gbt.maxDepth, [4]) \\\n",
    ".addGrid(gbt.maxIter, [20]) \\\n",
    ".build()"
   ]
  },
  {
   "cell_type": "code",
   "execution_count": 111,
   "metadata": {},
   "outputs": [],
   "source": [
    "#building model\n",
    "model = build_model(gbt, paramGrid_gbt)"
   ]
  },
  {
   "cell_type": "code",
   "execution_count": 112,
   "metadata": {},
   "outputs": [
    {
     "name": "stdout",
     "output_type": "stream",
     "text": [
      "CPU times: user 22.9 s, sys: 7.37 s, total: 30.3 s\n",
      "Wall time: 41min 29s\n"
     ]
    }
   ],
   "source": [
    "%%time\n",
    "gbt_model = model.fit(train)"
   ]
  },
  {
   "cell_type": "code",
   "execution_count": 113,
   "metadata": {},
   "outputs": [],
   "source": [
    "pred_gbt =gbt_model.transform(test)"
   ]
  },
  {
   "cell_type": "code",
   "execution_count": 114,
   "metadata": {},
   "outputs": [
    {
     "name": "stdout",
     "output_type": "stream",
     "text": [
      "f1: 0.616783172941287 , accuracy: 0.6739130434782609\n"
     ]
    }
   ],
   "source": [
    "#create evaluator to get F1 score and accuracy metrics\n",
    "evaluator = MulticlassClassificationEvaluator(predictionCol=\"prediction\", labelCol=\"label\")\n",
    "f1_score = evaluator.evaluate(pred_gbt, {evaluator.metricName: \"f1\"})\n",
    "accuracy = evaluator.evaluate(pred_gbt, {evaluator.metricName: \"accuracy\"})\n",
    "print(\"f1: {} , accuracy: {}\".format(f1_score, accuracy))"
   ]
  },
  {
   "cell_type": "code",
   "execution_count": 132,
   "metadata": {
    "scrolled": true
   },
   "outputs": [
    {
     "data": {
      "text/html": [
       "<div>\n",
       "<style scoped>\n",
       "    .dataframe tbody tr th:only-of-type {\n",
       "        vertical-align: middle;\n",
       "    }\n",
       "\n",
       "    .dataframe tbody tr th {\n",
       "        vertical-align: top;\n",
       "    }\n",
       "\n",
       "    .dataframe thead th {\n",
       "        text-align: right;\n",
       "    }\n",
       "</style>\n",
       "<table border=\"1\" class=\"dataframe\">\n",
       "  <thead>\n",
       "    <tr style=\"text-align: right;\">\n",
       "      <th></th>\n",
       "      <th>feature</th>\n",
       "      <th>importance</th>\n",
       "    </tr>\n",
       "  </thead>\n",
       "  <tbody>\n",
       "    <tr>\n",
       "      <th>2</th>\n",
       "      <td>thumbsDown_count</td>\n",
       "      <td>0.148859</td>\n",
       "    </tr>\n",
       "    <tr>\n",
       "      <th>6</th>\n",
       "      <td>playlist_count</td>\n",
       "      <td>0.144906</td>\n",
       "    </tr>\n",
       "    <tr>\n",
       "      <th>0</th>\n",
       "      <td>rollAdvert_count</td>\n",
       "      <td>0.141014</td>\n",
       "    </tr>\n",
       "    <tr>\n",
       "      <th>1</th>\n",
       "      <td>thumbsUp_count</td>\n",
       "      <td>0.116545</td>\n",
       "    </tr>\n",
       "    <tr>\n",
       "      <th>10</th>\n",
       "      <td>dateCount</td>\n",
       "      <td>0.106025</td>\n",
       "    </tr>\n",
       "    <tr>\n",
       "      <th>5</th>\n",
       "      <td>addFriend_count</td>\n",
       "      <td>0.095641</td>\n",
       "    </tr>\n",
       "    <tr>\n",
       "      <th>9</th>\n",
       "      <td>song_count</td>\n",
       "      <td>0.060494</td>\n",
       "    </tr>\n",
       "    <tr>\n",
       "      <th>3</th>\n",
       "      <td>visitHome_count</td>\n",
       "      <td>0.059413</td>\n",
       "    </tr>\n",
       "    <tr>\n",
       "      <th>8</th>\n",
       "      <td>error_count</td>\n",
       "      <td>0.045413</td>\n",
       "    </tr>\n",
       "    <tr>\n",
       "      <th>12</th>\n",
       "      <td>gender</td>\n",
       "      <td>0.036894</td>\n",
       "    </tr>\n",
       "    <tr>\n",
       "      <th>4</th>\n",
       "      <td>upgrade_count</td>\n",
       "      <td>0.028630</td>\n",
       "    </tr>\n",
       "    <tr>\n",
       "      <th>7</th>\n",
       "      <td>error_page_count</td>\n",
       "      <td>0.015993</td>\n",
       "    </tr>\n",
       "    <tr>\n",
       "      <th>11</th>\n",
       "      <td>level</td>\n",
       "      <td>0.000174</td>\n",
       "    </tr>\n",
       "  </tbody>\n",
       "</table>\n",
       "</div>"
      ],
      "text/plain": [
       "             feature  importance\n",
       "2   thumbsDown_count    0.148859\n",
       "6     playlist_count    0.144906\n",
       "0   rollAdvert_count    0.141014\n",
       "1     thumbsUp_count    0.116545\n",
       "10         dateCount    0.106025\n",
       "5    addFriend_count    0.095641\n",
       "9         song_count    0.060494\n",
       "3    visitHome_count    0.059413\n",
       "8        error_count    0.045413\n",
       "12            gender    0.036894\n",
       "4      upgrade_count    0.028630\n",
       "7   error_page_count    0.015993\n",
       "11             level    0.000174"
      ]
     },
     "execution_count": 132,
     "metadata": {},
     "output_type": "execute_result"
    }
   ],
   "source": [
    "# Display feature importances\n",
    "importances = gbt_model.bestModel.stages[2].featureImportances\n",
    "importances_list = [importances[i] for i in range(len(importances))]\n",
    "names = feature_names\n",
    "pd.DataFrame({\"feature\": names,\"importance\": importances_list, }).sort_values('importance', ascending = False)"
   ]
  },
  {
   "cell_type": "markdown",
   "metadata": {},
   "source": [
    "## Decision Tree Classifier"
   ]
  },
  {
   "cell_type": "code",
   "execution_count": 144,
   "metadata": {},
   "outputs": [],
   "source": [
    "# Create decision tree classifier\n",
    "dt = DecisionTreeClassifier(featuresCol = 'features', labelCol = 'label')"
   ]
  },
  {
   "cell_type": "code",
   "execution_count": 153,
   "metadata": {},
   "outputs": [],
   "source": [
    "# Parameter combinations\n",
    "paramGrid_dt = (ParamGridBuilder()\n",
    "             .addGrid(dt.maxDepth, [ 4])\n",
    "             .addGrid(dt.maxBins, [20])\n",
    "             .addGrid(dt.impurity, ['gini', 'entropy'])\n",
    "             .build())"
   ]
  },
  {
   "cell_type": "code",
   "execution_count": 154,
   "metadata": {},
   "outputs": [],
   "source": [
    "#building model\n",
    "model_dt = build_model(dt, paramGrid_dt)"
   ]
  },
  {
   "cell_type": "code",
   "execution_count": 155,
   "metadata": {},
   "outputs": [
    {
     "name": "stdout",
     "output_type": "stream",
     "text": [
      "CPU times: user 6.95 s, sys: 2.22 s, total: 9.17 s\n",
      "Wall time: 15min 34s\n"
     ]
    }
   ],
   "source": [
    "%%time\n",
    "dt_model = model_dt.fit(train)"
   ]
  },
  {
   "cell_type": "code",
   "execution_count": 156,
   "metadata": {},
   "outputs": [],
   "source": [
    "pred_dt =dt_model.transform(test)"
   ]
  },
  {
   "cell_type": "code",
   "execution_count": 157,
   "metadata": {},
   "outputs": [
    {
     "name": "stdout",
     "output_type": "stream",
     "text": [
      "f1: 0.6618993135011442 , accuracy: 0.7391304347826086\n"
     ]
    }
   ],
   "source": [
    "#create evaluator to get F1 score and accuracy metrics\n",
    "evaluator = MulticlassClassificationEvaluator(predictionCol=\"prediction\", labelCol=\"label\")\n",
    "f1_score = evaluator.evaluate(pred_dt, {evaluator.metricName: \"f1\"})\n",
    "accuracy = evaluator.evaluate(pred_dt, {evaluator.metricName: \"accuracy\"})\n",
    "print(\"f1: {} , accuracy: {}\".format(f1_score, accuracy))"
   ]
  },
  {
   "cell_type": "markdown",
   "metadata": {},
   "source": [
    "# Final Steps\n",
    "Clean up your code, adding comments and renaming variables to make the code easier to read and maintain. Refer to the Spark Project Overview page and Data Scientist Capstone Project Rubric to make sure you are including all components of the capstone project and meet all expectations. Remember, this includes thorough documentation in a README file in a Github repository, as well as a web app or blog post."
   ]
  },
  {
   "cell_type": "code",
   "execution_count": null,
   "metadata": {},
   "outputs": [],
   "source": []
  }
 ],
 "metadata": {
  "kernelspec": {
   "display_name": "Python 3",
   "language": "python",
   "name": "python3"
  },
  "language_info": {
   "codemirror_mode": {
    "name": "ipython",
    "version": 3
   },
   "file_extension": ".py",
   "mimetype": "text/x-python",
   "name": "python",
   "nbconvert_exporter": "python",
   "pygments_lexer": "ipython3",
   "version": "3.6.3"
  }
 },
 "nbformat": 4,
 "nbformat_minor": 2
}
